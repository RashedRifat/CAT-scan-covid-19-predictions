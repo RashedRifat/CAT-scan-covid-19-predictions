{
  "cells": [
    {
      "attachments": {},
      "cell_type": "markdown",
      "metadata": {
        "id": "5SxVfrovXfSt"
      },
      "source": [
        "# Table of Contents\n"
      ]
    },
    {
      "attachments": {},
      "cell_type": "markdown",
      "metadata": {
        "colab_type": "toc",
        "id": "jLGcpcjtXXD6"
      },
      "source": [
        ">[Adv ML Final Project](#scrollTo=tdR67P3hD2GP)\n",
        "\n",
        ">>[Goals](#scrollTo=tdR67P3hD2GP)\n",
        "\n",
        ">>[Code](#scrollTo=tdR67P3hD2GP)\n",
        "\n",
        ">>[Pre-processing and Data Cleaning](#scrollTo=KveNLb-BRXKh)\n",
        "\n",
        ">>[Base Models and Augmentation](#scrollTo=jWmaR9TldxHZ)\n",
        "\n",
        ">>>[ResNet50 Base Model](#scrollTo=MQz3vJzKUTAU)\n",
        "\n",
        ">>>>[Comparison](#scrollTo=OVRsK8atd478)\n",
        "\n",
        ">>>[VGG16 Model Augmentation](#scrollTo=mI3y1pq4UWw2)\n",
        "\n",
        ">>>>[Comparsion](#scrollTo=lr-nMB-SdpcO)\n",
        "\n",
        ">>[Hyperparameter Tuning](#scrollTo=9iziBl3f2z7G)\n",
        "\n",
        ">>>[VGG16 Tuning](#scrollTo=iJqVfB6ehp4w)\n",
        "\n",
        ">>>[ResNet50 Tuning](#scrollTo=NEEfuKnUm93k)\n",
        "\n",
        ">>[Tensorflow Lite Conversion](#scrollTo=MVZ_9LdTwbX9)\n",
        "\n",
        ">>>[Save the Optimized Model](#scrollTo=5AjDqJnn2dtE)\n",
        "\n",
        ">>[Performance Evaluation](#scrollTo=e_Ps9pge_DZB)\n",
        "\n",
        ">>[Conversion](#scrollTo=V5lWh_9y2nvM)\n",
        "\n",
        ">>>>[Batched Image Performance](#scrollTo=NXO8WNEeWcR3)\n",
        "\n",
        ">>>>[Single Image Performance](#scrollTo=ITWr3Bk6WOKr)\n",
        "\n"
      ]
    },
    {
      "attachments": {},
      "cell_type": "markdown",
      "metadata": {
        "id": "tdR67P3hD2GP"
      },
      "source": [
        "# Adv ML Final Project \n",
        "\n",
        "* Professor Parijat Dube\n",
        "* DS-UA 301, Spring 2023\n",
        "* May 4th, 2023\n",
        "* Stanislav Kharchenko (sk8997) and Rashed Rifat (rmr557)\n",
        "\n",
        "## Goals \n",
        "\n",
        "The goal of our project is to build a model that will predict the presence of COVID-19 using CAT Chest Scan images from a Kaggle Dataset. We plan to use ResNet50 as our project's base model, extending it with other hidden layers before classifying the image with a softmax prediction layer. Our project will focus on tuning the model to achieve the best performance possible by focusing on the learning rate, momentum, and optimizer parameters. Additionally, we will also convert our model to run on edge devices using TensorFlow Lite.\n",
        "\n",
        "## Code "
      ]
    },
    {
      "attachments": {},
      "cell_type": "markdown",
      "metadata": {
        "id": "KveNLb-BRXKh"
      },
      "source": [
        "## Pre-processing and Data Cleaning"
      ]
    },
    {
      "cell_type": "code",
      "execution_count": 1,
      "metadata": {
        "colab": {
          "base_uri": "https://localhost:8080/"
        },
        "id": "yEIHbwOjSfO1",
        "outputId": "d7d4d76f-c7da-4ee5-ed3a-0c49bf3afe97"
      },
      "outputs": [
        {
          "name": "stdout",
          "output_type": "stream",
          "text": [
            "Mounted at /content/drive\n"
          ]
        }
      ],
      "source": [
        "from google.colab import drive\n",
        "drive.mount('/content/drive')"
      ]
    },
    {
      "cell_type": "code",
      "execution_count": 2,
      "metadata": {
        "id": "vWPPZX8IS0Ud"
      },
      "outputs": [],
      "source": [
        "path = 'path/to/data'"
      ]
    },
    {
      "cell_type": "code",
      "execution_count": 3,
      "metadata": {
        "id": "TDsfKKHXD1KE"
      },
      "outputs": [],
      "source": [
        "import pandas as pd\n",
        "import numpy as np\n",
        "import seaborn as sns\n",
        "import tensorflow as tf\n",
        "import matplotlib.pyplot as plt\n",
        "\n",
        "from tensorflow import keras\n",
        "from tensorflow.keras import layers\n",
        "from tensorflow.keras.models import Sequential\n",
        "from tensorflow.keras.layers import Dense, Conv2D, MaxPooling2D, Flatten, Dropout,GlobalAveragePooling2D, Activation,BatchNormalization\n",
        "from tensorflow.keras.optimizers import Adam\n",
        "from tensorflow.keras.preprocessing.image import ImageDataGenerator\n",
        "from tensorflow.keras.callbacks import EarlyStopping, ModelCheckpoint\n",
        "from tensorflow.keras.utils import to_categorical\n",
        "\n",
        "from sklearn.model_selection import RandomizedSearchCV\n",
        "from sklearn.base import BaseEstimator, ClassifierMixin\n",
        "from sklearn.metrics import accuracy_score\n",
        "\n",
        "import time\n",
        "import os"
      ]
    },
    {
      "cell_type": "code",
      "execution_count": 4,
      "metadata": {
        "id": "JYDuU8VpRfse"
      },
      "outputs": [],
      "source": [
        "target_size = (224,224)\n",
        "input_shape = (*target_size, 3)"
      ]
    },
    {
      "cell_type": "code",
      "execution_count": 5,
      "metadata": {
        "colab": {
          "base_uri": "https://localhost:8080/"
        },
        "id": "WwHEU40XVT8K",
        "outputId": "f2c04c34-aac5-4c8d-fe98-cc898d6bbdf0"
      },
      "outputs": [
        {
          "name": "stdout",
          "output_type": "stream",
          "text": [
            "Found 201 images belonging to 3 classes.\n",
            "Found 50 images belonging to 3 classes.\n",
            "Found 66 images belonging to 3 classes.\n"
          ]
        }
      ],
      "source": [
        "# Load in data \n",
        "train_gen = ImageDataGenerator(rescale=1/255,validation_split=0.2)\n",
        "test_gen = ImageDataGenerator(rescale=1/255)\n",
        "\n",
        "train_data = train_gen.flow_from_directory(directory=path + '/train', \n",
        "                                           target_size=target_size, subset='training')\n",
        "val_data = train_gen.flow_from_directory(directory=path + '/train', \n",
        "                                           target_size=target_size,subset='validation')\n",
        "test_data = test_gen.flow_from_directory(directory=path + '/test', \n",
        "                                         target_size=target_size)"
      ]
    },
    {
      "attachments": {},
      "cell_type": "markdown",
      "metadata": {
        "id": "jWmaR9TldxHZ"
      },
      "source": [
        "## Base Models and Augmentation"
      ]
    },
    {
      "attachments": {},
      "cell_type": "markdown",
      "metadata": {
        "id": "MQz3vJzKUTAU"
      },
      "source": [
        "### ResNet50 Base Model"
      ]
    },
    {
      "cell_type": "code",
      "execution_count": null,
      "metadata": {
        "colab": {
          "base_uri": "https://localhost:8080/"
        },
        "id": "H3IFlBmdUSWU",
        "outputId": "73760c9d-ed11-446d-edea-fff01bbaa639"
      },
      "outputs": [
        {
          "name": "stdout",
          "output_type": "stream",
          "text": [
            "Downloading data from https://storage.googleapis.com/tensorflow/keras-applications/resnet/resnet50_weights_tf_dim_ordering_tf_kernels_notop.h5\n",
            "94765736/94765736 [==============================] - 5s 0us/step\n"
          ]
        }
      ],
      "source": [
        "from tensorflow.keras.applications.resnet50 import ResNet50\n",
        "# Load base ResNet50 model\n",
        "num_clasess = 3\n",
        "\n",
        "resnet_base = ResNet50(weights='imagenet', include_top=False, input_shape=(224, 224, 3))\n",
        "\n",
        "resnet_base.trainable = False"
      ]
    },
    {
      "cell_type": "code",
      "execution_count": null,
      "metadata": {
        "colab": {
          "base_uri": "https://localhost:8080/"
        },
        "id": "F21n5J1pSfyF",
        "outputId": "7da7e68f-fa96-45eb-be76-9285e88fe73f"
      },
      "outputs": [
        {
          "name": "stdout",
          "output_type": "stream",
          "text": [
            "Epoch 1/50\n",
            "7/7 [==============================] - 122s 18s/step - loss: 5.0597 - acc: 0.5025 - val_loss: 8.1734 - val_acc: 0.2800\n",
            "Epoch 2/50\n",
            "7/7 [==============================] - 12s 2s/step - loss: 4.8637 - acc: 0.4826 - val_loss: 4.9766 - val_acc: 0.6800\n",
            "Epoch 3/50\n",
            "7/7 [==============================] - 12s 2s/step - loss: 3.3381 - acc: 0.6119 - val_loss: 2.9831 - val_acc: 0.3000\n",
            "Epoch 4/50\n",
            "7/7 [==============================] - 12s 2s/step - loss: 1.4118 - acc: 0.6318 - val_loss: 1.4171 - val_acc: 0.5400\n",
            "Epoch 5/50\n",
            "7/7 [==============================] - 12s 2s/step - loss: 0.8428 - acc: 0.7114 - val_loss: 0.6780 - val_acc: 0.6800\n",
            "Epoch 6/50\n",
            "7/7 [==============================] - 12s 2s/step - loss: 0.7105 - acc: 0.7065 - val_loss: 0.8872 - val_acc: 0.6200\n",
            "Epoch 7/50\n",
            "7/7 [==============================] - 12s 2s/step - loss: 0.6893 - acc: 0.8109 - val_loss: 1.3799 - val_acc: 0.6400\n",
            "Epoch 8/50\n",
            "7/7 [==============================] - 12s 2s/step - loss: 0.5780 - acc: 0.7960 - val_loss: 1.2556 - val_acc: 0.5200\n",
            "Epoch 9/50\n",
            "7/7 [==============================] - 12s 2s/step - loss: 0.5331 - acc: 0.8010 - val_loss: 0.9411 - val_acc: 0.7600\n",
            "Epoch 10/50\n",
            "7/7 [==============================] - 13s 2s/step - loss: 0.4872 - acc: 0.7811 - val_loss: 0.5236 - val_acc: 0.7800\n",
            "Epoch 11/50\n",
            "7/7 [==============================] - 13s 2s/step - loss: 0.5020 - acc: 0.8259 - val_loss: 0.3899 - val_acc: 0.8800\n",
            "Epoch 12/50\n",
            "7/7 [==============================] - 12s 2s/step - loss: 0.6395 - acc: 0.7910 - val_loss: 0.8211 - val_acc: 0.7000\n",
            "Epoch 13/50\n",
            "7/7 [==============================] - 12s 2s/step - loss: 0.4572 - acc: 0.8408 - val_loss: 1.0886 - val_acc: 0.6000\n",
            "Epoch 14/50\n",
            "7/7 [==============================] - 11s 2s/step - loss: 0.5088 - acc: 0.8259 - val_loss: 0.7387 - val_acc: 0.7600\n",
            "Epoch 15/50\n",
            "7/7 [==============================] - 12s 2s/step - loss: 0.3964 - acc: 0.8607 - val_loss: 0.3468 - val_acc: 0.8800\n",
            "Epoch 16/50\n",
            "7/7 [==============================] - 12s 2s/step - loss: 0.3065 - acc: 0.8905 - val_loss: 0.5263 - val_acc: 0.8200\n",
            "Epoch 17/50\n",
            "7/7 [==============================] - 12s 2s/step - loss: 0.2335 - acc: 0.9055 - val_loss: 0.5709 - val_acc: 0.8200\n",
            "Epoch 18/50\n",
            "7/7 [==============================] - 12s 2s/step - loss: 0.3381 - acc: 0.8657 - val_loss: 0.4179 - val_acc: 0.8400\n",
            "Epoch 19/50\n",
            "7/7 [==============================] - 12s 2s/step - loss: 0.3283 - acc: 0.8507 - val_loss: 0.3780 - val_acc: 0.8600\n",
            "Epoch 20/50\n",
            "7/7 [==============================] - 13s 2s/step - loss: 0.2793 - acc: 0.8955 - val_loss: 0.3638 - val_acc: 0.8600\n"
          ]
        }
      ],
      "source": [
        "trainable_resnet_base = tf.keras.Sequential()\n",
        "trainable_resnet_base.add(resnet_base)\n",
        "trainable_resnet_base.add(tf.keras.layers.Flatten())\n",
        "trainable_resnet_base.add(tf.keras.layers.Dense(3, activation='softmax'))\n",
        "\n",
        "trainable_resnet_base.compile(loss='categorical_crossentropy', \n",
        "              optimizer=tf.keras.optimizers.Adam(0.001),\n",
        "              metrics=['acc'])\n",
        "\n",
        "\n",
        "early = tf.keras.callbacks.EarlyStopping(monitor=\"val_loss\", mode=\"min\",restore_best_weights=True, patience=5)\n",
        "callbacks_list = [early]\n",
        "\n",
        "# Train model and save history\n",
        "base_resnet_history = trainable_resnet_base.fit(\n",
        "        train_data,\n",
        "        validation_data = val_data,\n",
        "        epochs=50, \n",
        "        shuffle=False, \n",
        "        verbose=True,\n",
        "        callbacks=callbacks_list)"
      ]
    },
    {
      "cell_type": "code",
      "execution_count": null,
      "metadata": {
        "id": "OZdl8kE_UV-3"
      },
      "outputs": [],
      "source": [
        "# plot learning curve\n",
        "def plot_learning_curve(history):\n",
        "    acc = history.history['acc']\n",
        "    val_acc = history.history['val_acc']\n",
        "    loss = history.history['loss']\n",
        "    val_loss = history.history['val_loss']\n",
        "    epochs = range(len(acc))\n",
        "\n",
        "    plt.plot(epochs, acc, label='training acc')\n",
        "    plt.plot(epochs, val_acc, label='validation acc')\n",
        "    plt.legend();\n",
        "    plt.figure();\n",
        "\n",
        "    plt.plot(epochs, loss, label='training loss')\n",
        "    plt.plot(epochs, val_loss, label='validation loss')\n",
        "    plt.legend();\n"
      ]
    },
    {
      "attachments": {},
      "cell_type": "markdown",
      "metadata": {
        "id": "wLS0FK4i2PLB"
      },
      "source": [
        "ResNet50 Augmented Model"
      ]
    },
    {
      "cell_type": "code",
      "execution_count": null,
      "metadata": {
        "id": "GsUxVKlH2R63"
      },
      "outputs": [],
      "source": [
        "class AugResNet50(BaseEstimator, ClassifierMixin):\n",
        "    def __init__(self, learning_rate=0.001, optimizer_name = None, epochs = 10):\n",
        "        self.learning_rate = learning_rate\n",
        "        self.optimizer_name = optimizer_name\n",
        "        self.epochs = epochs\n",
        "        self.model = None\n",
        "        \n",
        "\n",
        "    def fit(self, X, validation_data):\n",
        "        \n",
        "        \n",
        "\n",
        "        resnet_aug = tf.keras.Sequential()\n",
        "        resnet_aug.add(resnet_base)\n",
        "\n",
        "        resnet_aug.add(GlobalAveragePooling2D())\n",
        "        #resnet_aug.add(tf.keras.layers.Flatten())\n",
        "\n",
        "        resnet_aug.add(tf.keras.layers.Dense(512))\n",
        "        resnet_aug.add(tf.keras.layers.Activation('relu'))\n",
        "        resnet_aug.add(tf.keras.layers.Dropout(0.05))\n",
        "\n",
        "        resnet_aug.add(tf.keras.layers.Dense(512))\n",
        "        resnet_aug.add(tf.keras.layers.Activation('relu'))\n",
        "        #resnet_aug.add(tf.keras.layers.Dropout(0.05))\n",
        "\n",
        "        #resnet_aug.add(tf.keras.layers.Dense(256))\n",
        "        #resnet_aug.add(tf.keras.layers.Activation('relu'))\n",
        "        #resnet_aug.add(tf.keras.layers.Dropout(0.4))\n",
        "\n",
        "        resnet_aug.add(tf.keras.layers.Dense(3, activation='softmax'))\n",
        "\n",
        "        resnet_aug.compile(loss='categorical_crossentropy', \n",
        "                      optimizer=tf.keras.optimizers.Adam(self.learning_rate),\n",
        "                      metrics=['acc'])\n",
        "        \n",
        "        checkpoint = tf.keras.callbacks.ModelCheckpoint('model/resnet50_best.h5', \n",
        "                                                monitor='val_acc', verbose=1, \n",
        "                                                mode='max', save_best_only=True)\n",
        "\n",
        "        early = tf.keras.callbacks.EarlyStopping(monitor=\"val_loss\", mode=\"min\",restore_best_weights=True, patience=7)\n",
        "        callbacks_list = [checkpoint, early]\n",
        "\n",
        "        # Train model and save history\n",
        "        history = resnet_aug.fit(\n",
        "                train_data,\n",
        "                validation_data = val_data,\n",
        "                epochs=self.epochs, \n",
        "                shuffle=False, \n",
        "                verbose=True,\n",
        "                callbacks=callbacks_list)\n",
        "\n",
        "        self.model = resnet_aug\n",
        "        self.history = history\n",
        "\n",
        "        return self.history\n",
        "\n",
        "    def predict(self, X):\n",
        "        return np.argmax(self.model.predict(X), axis=-1)\n",
        "\n",
        "    def score(self, X, y):\n",
        "        y_pred = self.predict(X)\n",
        "        return accuracy_score(y, y_pred)"
      ]
    },
    {
      "cell_type": "code",
      "execution_count": null,
      "metadata": {
        "colab": {
          "base_uri": "https://localhost:8080/"
        },
        "id": "2wmf6h0F2SpE",
        "outputId": "5d20b2e0-0105-4dd6-ee41-701b5c286c78"
      },
      "outputs": [
        {
          "name": "stdout",
          "output_type": "stream",
          "text": [
            "Epoch 1/100\n",
            "7/7 [==============================] - ETA: 0s - loss: 1.1631 - acc: 0.3881\n",
            "Epoch 1: val_acc improved from -inf to 0.44000, saving model to model/resnet50_best.h5\n",
            "7/7 [==============================] - 18s 2s/step - loss: 1.1631 - acc: 0.3881 - val_loss: 1.1526 - val_acc: 0.4400\n",
            "Epoch 2/100\n",
            "7/7 [==============================] - ETA: 0s - loss: 1.0217 - acc: 0.5025\n",
            "Epoch 2: val_acc improved from 0.44000 to 0.48000, saving model to model/resnet50_best.h5\n",
            "7/7 [==============================] - 12s 2s/step - loss: 1.0217 - acc: 0.5025 - val_loss: 0.9691 - val_acc: 0.4800\n",
            "Epoch 3/100\n",
            "7/7 [==============================] - ETA: 0s - loss: 1.0455 - acc: 0.5473\n",
            "Epoch 3: val_acc improved from 0.48000 to 0.64000, saving model to model/resnet50_best.h5\n",
            "7/7 [==============================] - 12s 2s/step - loss: 1.0455 - acc: 0.5473 - val_loss: 0.9052 - val_acc: 0.6400\n",
            "Epoch 4/100\n",
            "7/7 [==============================] - ETA: 0s - loss: 0.8757 - acc: 0.6667\n",
            "Epoch 4: val_acc did not improve from 0.64000\n",
            "7/7 [==============================] - 11s 2s/step - loss: 0.8757 - acc: 0.6667 - val_loss: 0.8654 - val_acc: 0.6400\n",
            "Epoch 5/100\n",
            "7/7 [==============================] - ETA: 0s - loss: 0.7767 - acc: 0.6716\n",
            "Epoch 5: val_acc did not improve from 0.64000\n",
            "7/7 [==============================] - 11s 2s/step - loss: 0.7767 - acc: 0.6716 - val_loss: 0.7735 - val_acc: 0.6200\n",
            "Epoch 6/100\n",
            "7/7 [==============================] - ETA: 0s - loss: 0.7200 - acc: 0.6965\n",
            "Epoch 6: val_acc did not improve from 0.64000\n",
            "7/7 [==============================] - 11s 2s/step - loss: 0.7200 - acc: 0.6965 - val_loss: 0.8503 - val_acc: 0.5800\n",
            "Epoch 7/100\n",
            "7/7 [==============================] - ETA: 0s - loss: 0.7256 - acc: 0.6418\n",
            "Epoch 7: val_acc improved from 0.64000 to 0.76000, saving model to model/resnet50_best.h5\n",
            "7/7 [==============================] - 12s 2s/step - loss: 0.7256 - acc: 0.6418 - val_loss: 0.6966 - val_acc: 0.7600\n",
            "Epoch 8/100\n",
            "7/7 [==============================] - ETA: 0s - loss: 0.6238 - acc: 0.6766\n",
            "Epoch 8: val_acc improved from 0.76000 to 0.84000, saving model to model/resnet50_best.h5\n",
            "7/7 [==============================] - 12s 2s/step - loss: 0.6238 - acc: 0.6766 - val_loss: 0.6704 - val_acc: 0.8400\n",
            "Epoch 9/100\n",
            "7/7 [==============================] - ETA: 0s - loss: 0.6074 - acc: 0.6965\n",
            "Epoch 9: val_acc did not improve from 0.84000\n",
            "7/7 [==============================] - 11s 2s/step - loss: 0.6074 - acc: 0.6965 - val_loss: 0.6890 - val_acc: 0.7600\n",
            "Epoch 10/100\n",
            "7/7 [==============================] - ETA: 0s - loss: 0.6002 - acc: 0.7114\n",
            "Epoch 10: val_acc did not improve from 0.84000\n",
            "7/7 [==============================] - 11s 2s/step - loss: 0.6002 - acc: 0.7114 - val_loss: 0.6965 - val_acc: 0.7200\n",
            "Epoch 11/100\n",
            "7/7 [==============================] - ETA: 0s - loss: 0.6256 - acc: 0.7463\n",
            "Epoch 11: val_acc did not improve from 0.84000\n",
            "7/7 [==============================] - 11s 2s/step - loss: 0.6256 - acc: 0.7463 - val_loss: 0.6176 - val_acc: 0.7400\n",
            "Epoch 12/100\n",
            "7/7 [==============================] - ETA: 0s - loss: 0.7142 - acc: 0.6716\n",
            "Epoch 12: val_acc did not improve from 0.84000\n",
            "7/7 [==============================] - 11s 2s/step - loss: 0.7142 - acc: 0.6716 - val_loss: 0.8621 - val_acc: 0.5000\n",
            "Epoch 13/100\n",
            "7/7 [==============================] - ETA: 0s - loss: 0.6735 - acc: 0.6269\n",
            "Epoch 13: val_acc did not improve from 0.84000\n",
            "7/7 [==============================] - 11s 2s/step - loss: 0.6735 - acc: 0.6269 - val_loss: 0.6796 - val_acc: 0.8200\n",
            "Epoch 14/100\n",
            "7/7 [==============================] - ETA: 0s - loss: 0.5757 - acc: 0.7164\n",
            "Epoch 14: val_acc did not improve from 0.84000\n",
            "7/7 [==============================] - 11s 2s/step - loss: 0.5757 - acc: 0.7164 - val_loss: 0.6371 - val_acc: 0.7800\n",
            "Epoch 15/100\n",
            "7/7 [==============================] - ETA: 0s - loss: 0.5837 - acc: 0.7264\n",
            "Epoch 15: val_acc did not improve from 0.84000\n",
            "7/7 [==============================] - 11s 2s/step - loss: 0.5837 - acc: 0.7264 - val_loss: 0.6340 - val_acc: 0.7400\n",
            "Epoch 16/100\n",
            "7/7 [==============================] - ETA: 0s - loss: 0.5986 - acc: 0.7015\n",
            "Epoch 16: val_acc did not improve from 0.84000\n",
            "7/7 [==============================] - 11s 2s/step - loss: 0.5986 - acc: 0.7015 - val_loss: 0.7827 - val_acc: 0.6600\n",
            "Epoch 17/100\n",
            "7/7 [==============================] - ETA: 0s - loss: 0.6043 - acc: 0.7214\n",
            "Epoch 17: val_acc did not improve from 0.84000\n",
            "7/7 [==============================] - 11s 2s/step - loss: 0.6043 - acc: 0.7214 - val_loss: 0.7434 - val_acc: 0.6400\n",
            "Epoch 18/100\n",
            "7/7 [==============================] - ETA: 0s - loss: 0.6146 - acc: 0.7264\n",
            "Epoch 18: val_acc improved from 0.84000 to 0.86000, saving model to model/resnet50_best.h5\n",
            "7/7 [==============================] - 12s 2s/step - loss: 0.6146 - acc: 0.7264 - val_loss: 0.5949 - val_acc: 0.8600\n",
            "Epoch 19/100\n",
            "7/7 [==============================] - ETA: 0s - loss: 0.5237 - acc: 0.7612\n",
            "Epoch 19: val_acc did not improve from 0.86000\n",
            "7/7 [==============================] - 11s 2s/step - loss: 0.5237 - acc: 0.7612 - val_loss: 0.6116 - val_acc: 0.7600\n",
            "Epoch 20/100\n",
            "7/7 [==============================] - ETA: 0s - loss: 0.5372 - acc: 0.7413\n",
            "Epoch 20: val_acc did not improve from 0.86000\n",
            "7/7 [==============================] - 11s 2s/step - loss: 0.5372 - acc: 0.7413 - val_loss: 0.6023 - val_acc: 0.8000\n",
            "Epoch 21/100\n",
            "7/7 [==============================] - ETA: 0s - loss: 0.5404 - acc: 0.7413\n",
            "Epoch 21: val_acc did not improve from 0.86000\n",
            "7/7 [==============================] - 11s 2s/step - loss: 0.5404 - acc: 0.7413 - val_loss: 0.6130 - val_acc: 0.7800\n",
            "Epoch 22/100\n",
            "7/7 [==============================] - ETA: 0s - loss: 0.5753 - acc: 0.7413\n",
            "Epoch 22: val_acc did not improve from 0.86000\n",
            "7/7 [==============================] - 11s 2s/step - loss: 0.5753 - acc: 0.7413 - val_loss: 0.7506 - val_acc: 0.6000\n",
            "Epoch 23/100\n",
            "7/7 [==============================] - ETA: 0s - loss: 0.5862 - acc: 0.7164\n",
            "Epoch 23: val_acc did not improve from 0.86000\n",
            "7/7 [==============================] - 11s 2s/step - loss: 0.5862 - acc: 0.7164 - val_loss: 0.7713 - val_acc: 0.6600\n",
            "Epoch 24/100\n",
            "7/7 [==============================] - ETA: 0s - loss: 0.5801 - acc: 0.7562\n",
            "Epoch 24: val_acc did not improve from 0.86000\n",
            "7/7 [==============================] - 11s 2s/step - loss: 0.5801 - acc: 0.7562 - val_loss: 0.5942 - val_acc: 0.7200\n",
            "Epoch 25/100\n",
            "7/7 [==============================] - ETA: 0s - loss: 0.5495 - acc: 0.7463\n",
            "Epoch 25: val_acc did not improve from 0.86000\n",
            "7/7 [==============================] - 11s 2s/step - loss: 0.5495 - acc: 0.7463 - val_loss: 0.6460 - val_acc: 0.7400\n",
            "Epoch 26/100\n",
            "7/7 [==============================] - ETA: 0s - loss: 0.5154 - acc: 0.8308\n",
            "Epoch 26: val_acc did not improve from 0.86000\n",
            "7/7 [==============================] - 11s 2s/step - loss: 0.5154 - acc: 0.8308 - val_loss: 0.5695 - val_acc: 0.7800\n",
            "Epoch 27/100\n",
            "7/7 [==============================] - ETA: 0s - loss: 0.4851 - acc: 0.7662\n",
            "Epoch 27: val_acc did not improve from 0.86000\n",
            "7/7 [==============================] - 12s 2s/step - loss: 0.4851 - acc: 0.7662 - val_loss: 0.5416 - val_acc: 0.8600\n",
            "Epoch 28/100\n",
            "7/7 [==============================] - ETA: 0s - loss: 0.4644 - acc: 0.8109\n",
            "Epoch 28: val_acc did not improve from 0.86000\n",
            "7/7 [==============================] - 11s 2s/step - loss: 0.4644 - acc: 0.8109 - val_loss: 0.5604 - val_acc: 0.7800\n",
            "Epoch 29/100\n",
            "7/7 [==============================] - ETA: 0s - loss: 0.4759 - acc: 0.7761\n",
            "Epoch 29: val_acc did not improve from 0.86000\n",
            "7/7 [==============================] - 11s 2s/step - loss: 0.4759 - acc: 0.7761 - val_loss: 0.5563 - val_acc: 0.8600\n",
            "Epoch 30/100\n",
            "7/7 [==============================] - ETA: 0s - loss: 0.5204 - acc: 0.7562\n",
            "Epoch 30: val_acc did not improve from 0.86000\n",
            "7/7 [==============================] - 11s 2s/step - loss: 0.5204 - acc: 0.7562 - val_loss: 0.5723 - val_acc: 0.7800\n",
            "Epoch 31/100\n",
            "7/7 [==============================] - ETA: 0s - loss: 0.4828 - acc: 0.7761\n",
            "Epoch 31: val_acc did not improve from 0.86000\n",
            "7/7 [==============================] - 11s 2s/step - loss: 0.4828 - acc: 0.7761 - val_loss: 0.5371 - val_acc: 0.8400\n",
            "Epoch 32/100\n",
            "7/7 [==============================] - ETA: 0s - loss: 0.4238 - acc: 0.8358\n",
            "Epoch 32: val_acc did not improve from 0.86000\n",
            "7/7 [==============================] - 11s 2s/step - loss: 0.4238 - acc: 0.8358 - val_loss: 0.5063 - val_acc: 0.8600\n",
            "Epoch 33/100\n",
            "7/7 [==============================] - ETA: 0s - loss: 0.4263 - acc: 0.8557\n",
            "Epoch 33: val_acc did not improve from 0.86000\n",
            "7/7 [==============================] - 11s 2s/step - loss: 0.4263 - acc: 0.8557 - val_loss: 0.5854 - val_acc: 0.7200\n",
            "Epoch 34/100\n",
            "7/7 [==============================] - ETA: 0s - loss: 0.5126 - acc: 0.7711\n",
            "Epoch 34: val_acc did not improve from 0.86000\n",
            "7/7 [==============================] - 11s 2s/step - loss: 0.5126 - acc: 0.7711 - val_loss: 0.7402 - val_acc: 0.7200\n",
            "Epoch 35/100\n",
            "7/7 [==============================] - ETA: 0s - loss: 0.4653 - acc: 0.8159\n",
            "Epoch 35: val_acc did not improve from 0.86000\n",
            "7/7 [==============================] - 11s 2s/step - loss: 0.4653 - acc: 0.8159 - val_loss: 0.6658 - val_acc: 0.7000\n",
            "Epoch 36/100\n",
            "7/7 [==============================] - ETA: 0s - loss: 0.3973 - acc: 0.8308\n",
            "Epoch 36: val_acc did not improve from 0.86000\n",
            "7/7 [==============================] - 11s 2s/step - loss: 0.3973 - acc: 0.8308 - val_loss: 0.5941 - val_acc: 0.7000\n",
            "Epoch 37/100\n",
            "7/7 [==============================] - ETA: 0s - loss: 0.5812 - acc: 0.7214\n",
            "Epoch 37: val_acc did not improve from 0.86000\n",
            "7/7 [==============================] - 11s 2s/step - loss: 0.5812 - acc: 0.7214 - val_loss: 0.5667 - val_acc: 0.7600\n",
            "Epoch 38/100\n",
            "7/7 [==============================] - ETA: 0s - loss: 0.4482 - acc: 0.8109\n",
            "Epoch 38: val_acc did not improve from 0.86000\n",
            "7/7 [==============================] - 11s 2s/step - loss: 0.4482 - acc: 0.8109 - val_loss: 0.5753 - val_acc: 0.7800\n",
            "Epoch 39/100\n",
            "7/7 [==============================] - ETA: 0s - loss: 0.4443 - acc: 0.8159\n",
            "Epoch 39: val_acc did not improve from 0.86000\n",
            "7/7 [==============================] - 11s 2s/step - loss: 0.4443 - acc: 0.8159 - val_loss: 0.5389 - val_acc: 0.8200\n"
          ]
        }
      ],
      "source": [
        "resnet_aug = AugResNet50(optimizer_name = \"adam\", epochs = 100)\n",
        "aug_resnet_history = resnet_aug.fit(X = train_data, validation_data = val_data)"
      ]
    },
    {
      "attachments": {},
      "cell_type": "markdown",
      "metadata": {
        "id": "OVRsK8atd478"
      },
      "source": [
        "#### Comparison"
      ]
    },
    {
      "cell_type": "code",
      "execution_count": null,
      "metadata": {
        "colab": {
          "base_uri": "https://localhost:8080/",
          "height": 848
        },
        "id": "OZBHNois2nNS",
        "outputId": "2fea30d3-fda4-4e3d-85b6-26affd6fe2a8"
      },
      "outputs": [
        {
          "data": {
            "image/png": "[encoded data removed]",
            "text/plain": [
              "<Figure size 640x480 with 1 Axes>"
            ]
          },
          "metadata": {},
          "output_type": "display_data"
        },
        {
          "data": {
            "image/png": "[encoded data removed]",
            "text/plain": [
              "<Figure size 640x480 with 1 Axes>"
            ]
          },
          "metadata": {},
          "output_type": "display_data"
        }
      ],
      "source": [
        "plot_learning_curve(aug_resnet_history)"
      ]
    },
    {
      "cell_type": "code",
      "execution_count": null,
      "metadata": {
        "colab": {
          "base_uri": "https://localhost:8080/",
          "height": 843
        },
        "id": "YosdH2ZKJ1Eo",
        "outputId": "4d46bb6d-7ce4-4d80-d6f7-595bd6ef6950"
      },
      "outputs": [
        {
          "data": {
            "image/png": "[encoded data removed]",
            "text/plain": [
              "<Figure size 640x480 with 1 Axes>"
            ]
          },
          "metadata": {},
          "output_type": "display_data"
        },
        {
          "data": {
            "image/png": "[encoded data removed]",
            "text/plain": [
              "<Figure size 640x480 with 1 Axes>"
            ]
          },
          "metadata": {},
          "output_type": "display_data"
        }
      ],
      "source": [
        "plot_learning_curve(base_resnet_history)"
      ]
    },
    {
      "attachments": {},
      "cell_type": "markdown",
      "metadata": {
        "id": "mI3y1pq4UWw2"
      },
      "source": [
        "### VGG16 Model Augmentation"
      ]
    },
    {
      "cell_type": "code",
      "execution_count": null,
      "metadata": {
        "id": "bzbw67buUX5W"
      },
      "outputs": [],
      "source": [
        "from tensorflow.keras.layers.experimental import preprocessing\n",
        "\n",
        "# Load base model\n",
        "vgg16_base = tf.keras.applications.vgg16.VGG16(\n",
        "    weights='imagenet', \n",
        "    include_top=False,\n",
        "    input_shape=input_shape\n",
        ")\n",
        "vgg16_base.trainable = False"
      ]
    },
    {
      "cell_type": "code",
      "execution_count": null,
      "metadata": {
        "colab": {
          "base_uri": "https://localhost:8080/"
        },
        "id": "rEcs6PizUYaW",
        "outputId": "e9822e3f-57db-49e3-b11f-089ad37e983e"
      },
      "outputs": [
        {
          "name": "stdout",
          "output_type": "stream",
          "text": [
            "Model: \"sequential_17\"\n",
            "_________________________________________________________________\n",
            " Layer (type)                Output Shape              Param #   \n",
            "=================================================================\n",
            " vgg16 (Functional)          (None, 7, 7, 512)         14714688  \n",
            "                                                                 \n",
            " global_average_pooling2d_13  (None, 512)              0         \n",
            "  (GlobalAveragePooling2D)                                       \n",
            "                                                                 \n",
            " flatten_13 (Flatten)        (None, 512)               0         \n",
            "                                                                 \n",
            " dense_56 (Dense)            (None, 256)               131328    \n",
            "                                                                 \n",
            " dropout_24 (Dropout)        (None, 256)               0         \n",
            "                                                                 \n",
            " dense_57 (Dense)            (None, 256)               65792     \n",
            "                                                                 \n",
            " dropout_25 (Dropout)        (None, 256)               0         \n",
            "                                                                 \n",
            " dense_58 (Dense)            (None, 3)                 771       \n",
            "                                                                 \n",
            "=================================================================\n",
            "Total params: 14,912,579\n",
            "Trainable params: 197,891\n",
            "Non-trainable params: 14,714,688\n",
            "_________________________________________________________________\n"
          ]
        }
      ],
      "source": [
        "vgg16_aug = tf.keras.Sequential()\n",
        "vgg16_aug.add(vgg16_base)\n",
        "\n",
        "vgg16_aug.add(tf.keras.layers.GlobalAveragePooling2D())\n",
        "vgg16_aug.add(tf.keras.layers.Flatten())\n",
        "\n",
        "vgg16_aug.add(tf.keras.layers.Dense(256, activation='relu'))\n",
        "vgg16_aug.add(tf.keras.layers.Dropout(0.5))\n",
        "\n",
        "vgg16_aug.add(tf.keras.layers.Dense(256, activation='relu'))\n",
        "vgg16_aug.add(tf.keras.layers.Dropout(0.5))\n",
        "\n",
        "vgg16_aug.add(tf.keras.layers.Dense(3, activation='softmax'))\n",
        "\n",
        "vgg16_aug.compile(loss='categorical_crossentropy', \n",
        "              optimizer=tf.keras.optimizers.Adam(0.001),\n",
        "              metrics=['acc'])\n",
        "\n",
        "vgg16_aug.summary()"
      ]
    },
    {
      "cell_type": "code",
      "execution_count": null,
      "metadata": {
        "id": "lDFrn2TeUYVV"
      },
      "outputs": [],
      "source": [
        "checkpoint = tf.keras.callbacks.ModelCheckpoint('model/vgg16_best.h5', \n",
        "                                                monitor='acc', verbose=1, \n",
        "                                                mode='max', save_best_only=True)\n",
        "\n",
        "early = tf.keras.callbacks.EarlyStopping(monitor=\"val_loss\", \n",
        "                                         mode=\"min\",\n",
        "                                         restore_best_weights=True, \n",
        "                                         patience=5)\n",
        "\n",
        "callbacks_list = [checkpoint, early]"
      ]
    },
    {
      "cell_type": "code",
      "execution_count": null,
      "metadata": {
        "colab": {
          "base_uri": "https://localhost:8080/"
        },
        "id": "-tF-AasoZ9l5",
        "outputId": "c3b7e33d-fd53-492e-f5cc-15d691d5e4fc"
      },
      "outputs": [
        {
          "name": "stdout",
          "output_type": "stream",
          "text": [
            "Epoch 1/50\n",
            "7/7 [==============================] - ETA: 0s - loss: 1.1237 - acc: 0.6169\n",
            "Epoch 1: acc improved from -inf to 0.61692, saving model to model/vgg16_best.h5\n",
            "7/7 [==============================] - 18s 3s/step - loss: 1.1237 - acc: 0.6169 - val_loss: 0.4306 - val_acc: 0.8200\n",
            "Epoch 2/50\n",
            "7/7 [==============================] - ETA: 0s - loss: 0.2540 - acc: 0.9005\n",
            "Epoch 2: acc improved from 0.61692 to 0.90050, saving model to model/vgg16_best.h5\n",
            "7/7 [==============================] - 14s 2s/step - loss: 0.2540 - acc: 0.9005 - val_loss: 0.3576 - val_acc: 0.9000\n",
            "Epoch 3/50\n",
            "7/7 [==============================] - ETA: 0s - loss: 0.1808 - acc: 0.9403\n",
            "Epoch 3: acc improved from 0.90050 to 0.94030, saving model to model/vgg16_best.h5\n",
            "7/7 [==============================] - 14s 2s/step - loss: 0.1808 - acc: 0.9403 - val_loss: 0.2826 - val_acc: 0.8200\n",
            "Epoch 4/50\n",
            "7/7 [==============================] - ETA: 0s - loss: 0.0733 - acc: 0.9701\n",
            "Epoch 4: acc improved from 0.94030 to 0.97015, saving model to model/vgg16_best.h5\n",
            "7/7 [==============================] - 13s 2s/step - loss: 0.0733 - acc: 0.9701 - val_loss: 0.4307 - val_acc: 0.9000\n",
            "Epoch 5/50\n",
            "7/7 [==============================] - ETA: 0s - loss: 0.0543 - acc: 0.9851\n",
            "Epoch 5: acc improved from 0.97015 to 0.98507, saving model to model/vgg16_best.h5\n",
            "7/7 [==============================] - 13s 2s/step - loss: 0.0543 - acc: 0.9851 - val_loss: 0.4147 - val_acc: 0.8800\n",
            "Epoch 6/50\n",
            "7/7 [==============================] - ETA: 0s - loss: 0.0243 - acc: 1.0000\n",
            "Epoch 6: acc improved from 0.98507 to 1.00000, saving model to model/vgg16_best.h5\n",
            "7/7 [==============================] - 13s 2s/step - loss: 0.0243 - acc: 1.0000 - val_loss: 0.2902 - val_acc: 0.9000\n",
            "Epoch 7/50\n",
            "7/7 [==============================] - ETA: 0s - loss: 0.0139 - acc: 1.0000\n",
            "Epoch 7: acc did not improve from 1.00000\n",
            "7/7 [==============================] - 14s 2s/step - loss: 0.0139 - acc: 1.0000 - val_loss: 0.1993 - val_acc: 0.9200\n",
            "Epoch 8/50\n",
            "7/7 [==============================] - ETA: 0s - loss: 0.0139 - acc: 1.0000\n",
            "Epoch 8: acc did not improve from 1.00000\n",
            "7/7 [==============================] - 18s 3s/step - loss: 0.0139 - acc: 1.0000 - val_loss: 0.2102 - val_acc: 0.9200\n",
            "Epoch 9/50\n",
            "7/7 [==============================] - ETA: 0s - loss: 0.0099 - acc: 1.0000\n",
            "Epoch 9: acc did not improve from 1.00000\n",
            "7/7 [==============================] - 27s 4s/step - loss: 0.0099 - acc: 1.0000 - val_loss: 0.2518 - val_acc: 0.9200\n",
            "Epoch 10/50\n",
            "7/7 [==============================] - ETA: 0s - loss: 0.0077 - acc: 1.0000\n",
            "Epoch 10: acc did not improve from 1.00000\n",
            "7/7 [==============================] - 16s 2s/step - loss: 0.0077 - acc: 1.0000 - val_loss: 0.2630 - val_acc: 0.9000\n",
            "Epoch 11/50\n",
            "7/7 [==============================] - ETA: 0s - loss: 0.0070 - acc: 1.0000\n",
            "Epoch 11: acc did not improve from 1.00000\n",
            "7/7 [==============================] - 24s 4s/step - loss: 0.0070 - acc: 1.0000 - val_loss: 0.2626 - val_acc: 0.9000\n",
            "Epoch 12/50\n",
            "7/7 [==============================] - ETA: 0s - loss: 0.0066 - acc: 1.0000\n",
            "Epoch 12: acc did not improve from 1.00000\n",
            "7/7 [==============================] - 15s 2s/step - loss: 0.0066 - acc: 1.0000 - val_loss: 0.2616 - val_acc: 0.9000\n"
          ]
        }
      ],
      "source": [
        "# Get a trainable version of VGG16\n",
        "trainable_vgg16_base = tf.keras.Sequential()\n",
        "trainable_vgg16_base.add(vgg16_base)\n",
        "trainable_vgg16_base.add(tf.keras.layers.Flatten())\n",
        "trainable_vgg16_base.add(tf.keras.layers.Dense(3, activation='softmax'))\n",
        "\n",
        "trainable_vgg16_base.compile(loss='categorical_crossentropy', \n",
        "              optimizer=tf.keras.optimizers.Adam(0.001),\n",
        "              metrics=['acc'])\n",
        "\n",
        "# Train model and save history\n",
        "base_history = trainable_vgg16_base.fit(\n",
        "        train_data,\n",
        "        validation_data = val_data,\n",
        "        epochs=50, \n",
        "        shuffle=False, \n",
        "        verbose=True,\n",
        "        callbacks=callbacks_list)"
      ]
    },
    {
      "cell_type": "code",
      "execution_count": null,
      "metadata": {
        "colab": {
          "base_uri": "https://localhost:8080/"
        },
        "id": "XzXQ9PlJYRzb",
        "outputId": "0ec5ac77-3afd-43d7-ea14-4a14e2d99a2d"
      },
      "outputs": [
        {
          "name": "stdout",
          "output_type": "stream",
          "text": [
            "Epoch 1/50\n",
            "7/7 [==============================] - ETA: 0s - loss: 1.2086 - acc: 0.3930\n",
            "Epoch 1: acc did not improve from 1.00000\n",
            "7/7 [==============================] - 21s 3s/step - loss: 1.2086 - acc: 0.3930 - val_loss: 0.9901 - val_acc: 0.4400\n",
            "Epoch 2/50\n",
            "7/7 [==============================] - ETA: 0s - loss: 1.0588 - acc: 0.4478\n",
            "Epoch 2: acc did not improve from 1.00000\n",
            "7/7 [==============================] - 13s 2s/step - loss: 1.0588 - acc: 0.4478 - val_loss: 0.9332 - val_acc: 0.5200\n",
            "Epoch 3/50\n",
            "7/7 [==============================] - ETA: 0s - loss: 0.9445 - acc: 0.5274\n",
            "Epoch 3: acc did not improve from 1.00000\n",
            "7/7 [==============================] - 14s 2s/step - loss: 0.9445 - acc: 0.5274 - val_loss: 0.9084 - val_acc: 0.5800\n",
            "Epoch 4/50\n",
            "7/7 [==============================] - ETA: 0s - loss: 0.8706 - acc: 0.5821\n",
            "Epoch 4: acc did not improve from 1.00000\n",
            "7/7 [==============================] - 14s 2s/step - loss: 0.8706 - acc: 0.5821 - val_loss: 0.8357 - val_acc: 0.6600\n",
            "Epoch 5/50\n",
            "7/7 [==============================] - ETA: 0s - loss: 0.7721 - acc: 0.6567\n",
            "Epoch 5: acc did not improve from 1.00000\n",
            "7/7 [==============================] - 13s 2s/step - loss: 0.7721 - acc: 0.6567 - val_loss: 0.7745 - val_acc: 0.6600\n",
            "Epoch 6/50\n",
            "7/7 [==============================] - ETA: 0s - loss: 0.7068 - acc: 0.6816\n",
            "Epoch 6: acc did not improve from 1.00000\n",
            "7/7 [==============================] - 13s 2s/step - loss: 0.7068 - acc: 0.6816 - val_loss: 0.7138 - val_acc: 0.8000\n",
            "Epoch 7/50\n",
            "7/7 [==============================] - ETA: 0s - loss: 0.6596 - acc: 0.7264\n",
            "Epoch 7: acc did not improve from 1.00000\n",
            "7/7 [==============================] - 14s 2s/step - loss: 0.6596 - acc: 0.7264 - val_loss: 0.6819 - val_acc: 0.7600\n",
            "Epoch 8/50\n",
            "7/7 [==============================] - ETA: 0s - loss: 0.5994 - acc: 0.7264\n",
            "Epoch 8: acc did not improve from 1.00000\n",
            "7/7 [==============================] - 13s 2s/step - loss: 0.5994 - acc: 0.7264 - val_loss: 0.6451 - val_acc: 0.7800\n",
            "Epoch 9/50\n",
            "7/7 [==============================] - ETA: 0s - loss: 0.5486 - acc: 0.7910\n",
            "Epoch 9: acc did not improve from 1.00000\n",
            "7/7 [==============================] - 13s 2s/step - loss: 0.5486 - acc: 0.7910 - val_loss: 0.5978 - val_acc: 0.8800\n",
            "Epoch 10/50\n",
            "7/7 [==============================] - ETA: 0s - loss: 0.4887 - acc: 0.7960\n",
            "Epoch 10: acc did not improve from 1.00000\n",
            "7/7 [==============================] - 14s 2s/step - loss: 0.4887 - acc: 0.7960 - val_loss: 0.5734 - val_acc: 0.8600\n",
            "Epoch 11/50\n",
            "7/7 [==============================] - ETA: 0s - loss: 0.4841 - acc: 0.8209\n",
            "Epoch 11: acc did not improve from 1.00000\n",
            "7/7 [==============================] - 14s 2s/step - loss: 0.4841 - acc: 0.8209 - val_loss: 0.5605 - val_acc: 0.8400\n",
            "Epoch 12/50\n",
            "7/7 [==============================] - ETA: 0s - loss: 0.4209 - acc: 0.8408\n",
            "Epoch 12: acc did not improve from 1.00000\n",
            "7/7 [==============================] - 13s 2s/step - loss: 0.4209 - acc: 0.8408 - val_loss: 0.5026 - val_acc: 0.8800\n",
            "Epoch 13/50\n",
            "7/7 [==============================] - ETA: 0s - loss: 0.3893 - acc: 0.8657\n",
            "Epoch 13: acc did not improve from 1.00000\n",
            "7/7 [==============================] - 13s 2s/step - loss: 0.3893 - acc: 0.8657 - val_loss: 0.4793 - val_acc: 0.8800\n",
            "Epoch 14/50\n",
            "7/7 [==============================] - ETA: 0s - loss: 0.3972 - acc: 0.8607\n",
            "Epoch 14: acc did not improve from 1.00000\n",
            "7/7 [==============================] - 13s 2s/step - loss: 0.3972 - acc: 0.8607 - val_loss: 0.4992 - val_acc: 0.8800\n",
            "Epoch 15/50\n",
            "7/7 [==============================] - ETA: 0s - loss: 0.4015 - acc: 0.8458\n",
            "Epoch 15: acc did not improve from 1.00000\n",
            "7/7 [==============================] - 13s 2s/step - loss: 0.4015 - acc: 0.8458 - val_loss: 0.4338 - val_acc: 0.8800\n",
            "Epoch 16/50\n",
            "7/7 [==============================] - ETA: 0s - loss: 0.3304 - acc: 0.8856\n",
            "Epoch 16: acc did not improve from 1.00000\n",
            "7/7 [==============================] - 13s 2s/step - loss: 0.3304 - acc: 0.8856 - val_loss: 0.4385 - val_acc: 0.9000\n",
            "Epoch 17/50\n",
            "7/7 [==============================] - ETA: 0s - loss: 0.3298 - acc: 0.8806\n",
            "Epoch 17: acc did not improve from 1.00000\n",
            "7/7 [==============================] - 13s 2s/step - loss: 0.3298 - acc: 0.8806 - val_loss: 0.4125 - val_acc: 0.9000\n",
            "Epoch 18/50\n",
            "7/7 [==============================] - ETA: 0s - loss: 0.3365 - acc: 0.8607\n",
            "Epoch 18: acc did not improve from 1.00000\n",
            "7/7 [==============================] - 13s 2s/step - loss: 0.3365 - acc: 0.8607 - val_loss: 0.3951 - val_acc: 0.9200\n",
            "Epoch 19/50\n",
            "7/7 [==============================] - ETA: 0s - loss: 0.3010 - acc: 0.9104\n",
            "Epoch 19: acc did not improve from 1.00000\n",
            "7/7 [==============================] - 13s 2s/step - loss: 0.3010 - acc: 0.9104 - val_loss: 0.4028 - val_acc: 0.9200\n",
            "Epoch 20/50\n",
            "7/7 [==============================] - ETA: 0s - loss: 0.2557 - acc: 0.9055\n",
            "Epoch 20: acc did not improve from 1.00000\n",
            "7/7 [==============================] - 13s 2s/step - loss: 0.2557 - acc: 0.9055 - val_loss: 0.3520 - val_acc: 0.9000\n",
            "Epoch 21/50\n",
            "7/7 [==============================] - ETA: 0s - loss: 0.2333 - acc: 0.9204\n",
            "Epoch 21: acc did not improve from 1.00000\n",
            "7/7 [==============================] - 13s 2s/step - loss: 0.2333 - acc: 0.9204 - val_loss: 0.4001 - val_acc: 0.9000\n",
            "Epoch 22/50\n",
            "7/7 [==============================] - ETA: 0s - loss: 0.2229 - acc: 0.9303\n",
            "Epoch 22: acc did not improve from 1.00000\n",
            "7/7 [==============================] - 13s 2s/step - loss: 0.2229 - acc: 0.9303 - val_loss: 0.3299 - val_acc: 0.8800\n",
            "Epoch 23/50\n",
            "7/7 [==============================] - ETA: 0s - loss: 0.2262 - acc: 0.9104\n",
            "Epoch 23: acc did not improve from 1.00000\n",
            "7/7 [==============================] - 13s 2s/step - loss: 0.2262 - acc: 0.9104 - val_loss: 0.4098 - val_acc: 0.9000\n",
            "Epoch 24/50\n",
            "7/7 [==============================] - ETA: 0s - loss: 0.2351 - acc: 0.9303\n",
            "Epoch 24: acc did not improve from 1.00000\n",
            "7/7 [==============================] - 13s 2s/step - loss: 0.2351 - acc: 0.9303 - val_loss: 0.3599 - val_acc: 0.9200\n",
            "Epoch 25/50\n",
            "7/7 [==============================] - ETA: 0s - loss: 0.1860 - acc: 0.9254\n",
            "Epoch 25: acc did not improve from 1.00000\n",
            "7/7 [==============================] - 13s 2s/step - loss: 0.1860 - acc: 0.9254 - val_loss: 0.3249 - val_acc: 0.8800\n",
            "Epoch 26/50\n",
            "7/7 [==============================] - ETA: 0s - loss: 0.2035 - acc: 0.9204\n",
            "Epoch 26: acc did not improve from 1.00000\n",
            "7/7 [==============================] - 14s 2s/step - loss: 0.2035 - acc: 0.9204 - val_loss: 0.3399 - val_acc: 0.9000\n",
            "Epoch 27/50\n",
            "7/7 [==============================] - ETA: 0s - loss: 0.1757 - acc: 0.9502\n",
            "Epoch 27: acc did not improve from 1.00000\n",
            "7/7 [==============================] - 14s 2s/step - loss: 0.1757 - acc: 0.9502 - val_loss: 0.3762 - val_acc: 0.9200\n",
            "Epoch 28/50\n",
            "7/7 [==============================] - ETA: 0s - loss: 0.2031 - acc: 0.9204\n",
            "Epoch 28: acc did not improve from 1.00000\n",
            "7/7 [==============================] - 13s 2s/step - loss: 0.2031 - acc: 0.9204 - val_loss: 0.3156 - val_acc: 0.9200\n",
            "Epoch 29/50\n",
            "7/7 [==============================] - ETA: 0s - loss: 0.1803 - acc: 0.9254\n",
            "Epoch 29: acc did not improve from 1.00000\n",
            "7/7 [==============================] - 13s 2s/step - loss: 0.1803 - acc: 0.9254 - val_loss: 0.3843 - val_acc: 0.9200\n",
            "Epoch 30/50\n",
            "7/7 [==============================] - ETA: 0s - loss: 0.1594 - acc: 0.9502\n",
            "Epoch 30: acc did not improve from 1.00000\n",
            "7/7 [==============================] - 13s 2s/step - loss: 0.1594 - acc: 0.9502 - val_loss: 0.3201 - val_acc: 0.9000\n",
            "Epoch 31/50\n",
            "7/7 [==============================] - ETA: 0s - loss: 0.1663 - acc: 0.9453\n",
            "Epoch 31: acc did not improve from 1.00000\n",
            "7/7 [==============================] - 18s 3s/step - loss: 0.1663 - acc: 0.9453 - val_loss: 0.3069 - val_acc: 0.9000\n",
            "Epoch 32/50\n",
            "7/7 [==============================] - ETA: 0s - loss: 0.1879 - acc: 0.9303\n",
            "Epoch 32: acc did not improve from 1.00000\n",
            "7/7 [==============================] - 13s 2s/step - loss: 0.1879 - acc: 0.9303 - val_loss: 0.3135 - val_acc: 0.9000\n",
            "Epoch 33/50\n",
            "7/7 [==============================] - ETA: 0s - loss: 0.1251 - acc: 0.9602\n",
            "Epoch 33: acc did not improve from 1.00000\n",
            "7/7 [==============================] - 15s 2s/step - loss: 0.1251 - acc: 0.9602 - val_loss: 0.2513 - val_acc: 0.9200\n",
            "Epoch 34/50\n",
            "7/7 [==============================] - ETA: 0s - loss: 0.1629 - acc: 0.9403\n",
            "Epoch 34: acc did not improve from 1.00000\n",
            "7/7 [==============================] - 13s 2s/step - loss: 0.1629 - acc: 0.9403 - val_loss: 0.3127 - val_acc: 0.9200\n",
            "Epoch 35/50\n",
            "7/7 [==============================] - ETA: 0s - loss: 0.1331 - acc: 0.9602\n",
            "Epoch 35: acc did not improve from 1.00000\n",
            "7/7 [==============================] - 13s 2s/step - loss: 0.1331 - acc: 0.9602 - val_loss: 0.2962 - val_acc: 0.9000\n",
            "Epoch 36/50\n",
            "7/7 [==============================] - ETA: 0s - loss: 0.1224 - acc: 0.9602\n",
            "Epoch 36: acc did not improve from 1.00000\n",
            "7/7 [==============================] - 13s 2s/step - loss: 0.1224 - acc: 0.9602 - val_loss: 0.3252 - val_acc: 0.9000\n",
            "Epoch 37/50\n",
            "7/7 [==============================] - ETA: 0s - loss: 0.1395 - acc: 0.9453\n",
            "Epoch 37: acc did not improve from 1.00000\n",
            "7/7 [==============================] - 15s 2s/step - loss: 0.1395 - acc: 0.9453 - val_loss: 0.3784 - val_acc: 0.9000\n",
            "Epoch 38/50\n",
            "7/7 [==============================] - ETA: 0s - loss: 0.1064 - acc: 0.9701\n",
            "Epoch 38: acc did not improve from 1.00000\n",
            "7/7 [==============================] - 14s 2s/step - loss: 0.1064 - acc: 0.9701 - val_loss: 0.3324 - val_acc: 0.9000\n"
          ]
        }
      ],
      "source": [
        "# Train our Augmented Model\n",
        "aug_history = vgg16_aug.fit(\n",
        "        train_data,\n",
        "        validation_data = val_data,\n",
        "        epochs=50, \n",
        "        shuffle=False, \n",
        "        verbose=True,\n",
        "        callbacks=callbacks_list)"
      ]
    },
    {
      "attachments": {},
      "cell_type": "markdown",
      "metadata": {
        "id": "lr-nMB-SdpcO"
      },
      "source": [
        "#### Comparsion"
      ]
    },
    {
      "cell_type": "code",
      "execution_count": null,
      "metadata": {
        "id": "AF1DtEMwbfkw"
      },
      "outputs": [],
      "source": [
        "def plot_learning_curve(history, title):\n",
        "    acc = history.history['acc']\n",
        "    val_acc = history.history['val_acc']\n",
        "    loss = history.history['loss']\n",
        "    val_loss = history.history['val_loss']\n",
        "    epochs = range(len(acc))\n",
        "\n",
        "    plt.plot(epochs, acc, label='training acc')\n",
        "    plt.plot(epochs, val_acc, label='validation acc')\n",
        "    plt.plot(epochs, loss, label='training loss')\n",
        "    plt.plot(epochs, val_loss, label='validation loss')\n",
        "\n",
        "    plt.title(title)\n",
        "    plt.xlabel(\"Epochs\")\n",
        "    plt.ylabel('Metrics')\n",
        "\n",
        "    plt.legend()\n",
        "    _ = plt.figure()"
      ]
    },
    {
      "cell_type": "code",
      "execution_count": null,
      "metadata": {
        "colab": {
          "base_uri": "https://localhost:8080/",
          "height": 490
        },
        "id": "im1Y2rf5gZOE",
        "outputId": "7e85987f-b6cc-4bdd-a192-30d20636159a"
      },
      "outputs": [
        {
          "data": {
            "image/png": "[encoded data removed]",
            "text/plain": [
              "<Figure size 640x480 with 1 Axes>"
            ]
          },
          "metadata": {},
          "output_type": "display_data"
        },
        {
          "data": {
            "text/plain": [
              "<Figure size 640x480 with 0 Axes>"
            ]
          },
          "metadata": {},
          "output_type": "display_data"
        }
      ],
      "source": [
        "_ = plot_learning_curve(base_history, 'Base VGG16 Model Metrics')"
      ]
    },
    {
      "cell_type": "code",
      "execution_count": null,
      "metadata": {
        "colab": {
          "base_uri": "https://localhost:8080/",
          "height": 490
        },
        "id": "UzO1Ezovhi0H",
        "outputId": "8b18b176-dd3a-4999-e566-75c110742e29"
      },
      "outputs": [
        {
          "data": {
            "image/png": "[encoded data removed]",
            "text/plain": [
              "<Figure size 640x480 with 1 Axes>"
            ]
          },
          "metadata": {},
          "output_type": "display_data"
        },
        {
          "data": {
            "text/plain": [
              "<Figure size 640x480 with 0 Axes>"
            ]
          },
          "metadata": {},
          "output_type": "display_data"
        }
      ],
      "source": [
        "_ = plot_learning_curve(aug_history, 'Augmented VGG16 Model Metrics')"
      ]
    },
    {
      "cell_type": "code",
      "execution_count": null,
      "metadata": {
        "id": "08cgwaQklbsZ"
      },
      "outputs": [],
      "source": []
    },
    {
      "attachments": {},
      "cell_type": "markdown",
      "metadata": {
        "id": "9iziBl3f2z7G"
      },
      "source": [
        "## Hyperparameter Tuning "
      ]
    },
    {
      "attachments": {},
      "cell_type": "markdown",
      "metadata": {
        "id": "iJqVfB6ehp4w"
      },
      "source": [
        "### VGG16 Tuning"
      ]
    },
    {
      "cell_type": "code",
      "execution_count": null,
      "metadata": {
        "colab": {
          "base_uri": "https://localhost:8080/"
        },
        "id": "NhfSpy1ZlK48",
        "outputId": "d490ec27-719a-4403-aead-d6153eba4251"
      },
      "outputs": [
        {
          "name": "stdout",
          "output_type": "stream",
          "text": [
            "Looking in indexes: https://pypi.org/simple, https://us-python.pkg.dev/colab-wheels/public/simple/\n",
            "Collecting ray[tune]\n",
            "  Downloading ray-2.4.0-cp310-cp310-manylinux2014_x86_64.whl (58.6 MB)\n",
            "\u001b[2K     \u001b[90m━━━━━━━━━━━━━━━━━━━━━━━━━━━━━━━━━━━━━━━━\u001b[0m \u001b[32m58.6/58.6 MB\u001b[0m \u001b[31m27.6 MB/s\u001b[0m eta \u001b[36m0:00:00\u001b[0m\n",
            "\u001b[?25hCollecting virtualenv<20.21.1,>=20.0.24\n",
            "  Downloading virtualenv-20.21.0-py3-none-any.whl (8.7 MB)\n",
            "\u001b[2K     \u001b[90m━━━━━━━━━━━━━━━━━━━━━━━━━━━━━━━━━━━━━━━━\u001b[0m \u001b[32m8.7/8.7 MB\u001b[0m \u001b[31m116.3 MB/s\u001b[0m eta \u001b[36m0:00:00\u001b[0m\n",
            "\u001b[?25hRequirement already satisfied: jsonschema in /usr/local/lib/python3.10/dist-packages (from ray[tune]) (4.3.3)\n",
            "Requirement already satisfied: filelock in /usr/local/lib/python3.10/dist-packages (from ray[tune]) (3.12.0)\n",
            "Requirement already satisfied: pyyaml in /usr/local/lib/python3.10/dist-packages (from ray[tune]) (6.0)\n",
            "Requirement already satisfied: numpy>=1.19.3 in /usr/local/lib/python3.10/dist-packages (from ray[tune]) (1.22.4)\n",
            "Requirement already satisfied: msgpack<2.0.0,>=1.0.0 in /usr/local/lib/python3.10/dist-packages (from ray[tune]) (1.0.5)\n",
            "Requirement already satisfied: click>=7.0 in /usr/local/lib/python3.10/dist-packages (from ray[tune]) (8.1.3)\n",
            "Requirement already satisfied: protobuf!=3.19.5,>=3.15.3 in /usr/local/lib/python3.10/dist-packages (from ray[tune]) (3.20.3)\n",
            "Requirement already satisfied: requests in /usr/local/lib/python3.10/dist-packages (from ray[tune]) (2.27.1)\n",
            "Collecting grpcio<=1.51.3,>=1.42.0\n",
            "  Downloading grpcio-1.51.3-cp310-cp310-manylinux_2_17_x86_64.manylinux2014_x86_64.whl (4.8 MB)\n",
            "\u001b[2K     \u001b[90m━━━━━━━━━━━━━━━━━━━━━━━━━━━━━━━━━━━━━━━━\u001b[0m \u001b[32m4.8/4.8 MB\u001b[0m \u001b[31m105.8 MB/s\u001b[0m eta \u001b[36m0:00:00\u001b[0m\n",
            "\u001b[?25hCollecting aiosignal\n",
            "  Downloading aiosignal-1.3.1-py3-none-any.whl (7.6 kB)\n",
            "Collecting frozenlist\n",
            "  Downloading frozenlist-1.3.3-cp310-cp310-manylinux_2_5_x86_64.manylinux1_x86_64.manylinux_2_17_x86_64.manylinux2014_x86_64.whl (149 kB)\n",
            "\u001b[2K     \u001b[90m━━━━━━━━━━━━━━━━━━━━━━━━━━━━━━━━━━━━━━\u001b[0m \u001b[32m149.6/149.6 kB\u001b[0m \u001b[31m20.5 MB/s\u001b[0m eta \u001b[36m0:00:00\u001b[0m\n",
            "\u001b[?25hRequirement already satisfied: packaging in /usr/local/lib/python3.10/dist-packages (from ray[tune]) (23.1)\n",
            "Requirement already satisfied: attrs in /usr/local/lib/python3.10/dist-packages (from ray[tune]) (23.1.0)\n",
            "Collecting tensorboardX>=1.9\n",
            "  Downloading tensorboardX-2.6-py2.py3-none-any.whl (114 kB)\n",
            "\u001b[2K     \u001b[90m━━━━━━━━━━━━━━━━━━━━━━━━━━━━━━━━━━━━━━\u001b[0m \u001b[32m114.5/114.5 kB\u001b[0m \u001b[31m16.0 MB/s\u001b[0m eta \u001b[36m0:00:00\u001b[0m\n",
            "\u001b[?25hRequirement already satisfied: tabulate in /usr/local/lib/python3.10/dist-packages (from ray[tune]) (0.8.10)\n",
            "Requirement already satisfied: pandas in /usr/local/lib/python3.10/dist-packages (from ray[tune]) (1.5.3)\n",
            "Requirement already satisfied: platformdirs<4,>=2.4 in /usr/local/lib/python3.10/dist-packages (from virtualenv<20.21.1,>=20.0.24->ray[tune]) (3.3.0)\n",
            "Collecting distlib<1,>=0.3.6\n",
            "  Downloading distlib-0.3.6-py2.py3-none-any.whl (468 kB)\n",
            "\u001b[2K     \u001b[90m━━━━━━━━━━━━━━━━━━━━━━━━━━━━━━━━━━━━━━\u001b[0m \u001b[32m468.5/468.5 kB\u001b[0m \u001b[31m51.5 MB/s\u001b[0m eta \u001b[36m0:00:00\u001b[0m\n",
            "\u001b[?25hRequirement already satisfied: pyrsistent!=0.17.0,!=0.17.1,!=0.17.2,>=0.14.0 in /usr/local/lib/python3.10/dist-packages (from jsonschema->ray[tune]) (0.19.3)\n",
            "Requirement already satisfied: pytz>=2020.1 in /usr/local/lib/python3.10/dist-packages (from pandas->ray[tune]) (2022.7.1)\n",
            "Requirement already satisfied: python-dateutil>=2.8.1 in /usr/local/lib/python3.10/dist-packages (from pandas->ray[tune]) (2.8.2)\n",
            "Requirement already satisfied: certifi>=2017.4.17 in /usr/local/lib/python3.10/dist-packages (from requests->ray[tune]) (2022.12.7)\n",
            "Requirement already satisfied: charset-normalizer~=2.0.0 in /usr/local/lib/python3.10/dist-packages (from requests->ray[tune]) (2.0.12)\n",
            "Requirement already satisfied: idna<4,>=2.5 in /usr/local/lib/python3.10/dist-packages (from requests->ray[tune]) (3.4)\n",
            "Requirement already satisfied: urllib3<1.27,>=1.21.1 in /usr/local/lib/python3.10/dist-packages (from requests->ray[tune]) (1.26.15)\n",
            "Requirement already satisfied: six>=1.5 in /usr/local/lib/python3.10/dist-packages (from python-dateutil>=2.8.1->pandas->ray[tune]) (1.16.0)\n",
            "Installing collected packages: distlib, virtualenv, tensorboardX, grpcio, frozenlist, aiosignal, ray\n",
            "  Attempting uninstall: grpcio\n",
            "    Found existing installation: grpcio 1.54.0\n",
            "    Uninstalling grpcio-1.54.0:\n",
            "      Successfully uninstalled grpcio-1.54.0\n",
            "Successfully installed aiosignal-1.3.1 distlib-0.3.6 frozenlist-1.3.3 grpcio-1.51.3 ray-2.4.0 tensorboardX-2.6 virtualenv-20.21.0\n"
          ]
        }
      ],
      "source": [
        "!pip install -U \"ray[tune]\""
      ]
    },
    {
      "cell_type": "code",
      "execution_count": null,
      "metadata": {
        "id": "oFDjUx3AlPQg"
      },
      "outputs": [],
      "source": [
        "import ray\n",
        "from ray import tune\n",
        "from ray.tune.integration.keras import TuneReportCallback\n",
        "from keras.callbacks import EarlyStopping\n",
        "import time\n",
        "from pprint import pprint\n",
        "from ray.tune.schedulers import HyperBandScheduler\n",
        "from tensorflow.keras.optimizers import Adam, SGD, Adagrad, RMSprop, Adadelta"
      ]
    },
    {
      "cell_type": "code",
      "execution_count": null,
      "metadata": {
        "id": "TvPO-EvtjlSj"
      },
      "outputs": [],
      "source": [
        "def train_vgg16(config):\n",
        "  # Set optimizers \n",
        "  optimizer_name = config.get('optimizer_name', 'adam')\n",
        "  learning_rate = config.get('learning_rate', 0.001)\n",
        "  momentum = config.get('momentum', 0.0)\n",
        "\n",
        "  if optimizer_name == 'adam':\n",
        "    optimizer = Adam(learning_rate=learning_rate)\n",
        "  elif optimizer_name == 'sgd':\n",
        "    optimizer = SGD(learning_rate=learning_rate, momentum=momentum)\n",
        "  elif optimizer_name == 'adagrad':\n",
        "    optimizer = Adagrad(learning_rate=learning_rate)\n",
        "  else: # default case\n",
        "    optimizer = Adam(learning_rate=learning_rate)\n",
        "  \n",
        "  # Create augmented model \n",
        "  vgg16_base = tf.keras.applications.vgg16.VGG16(\n",
        "        weights='imagenet', \n",
        "        include_top=False,\n",
        "        input_shape=input_shape\n",
        "    )\n",
        "  vgg16_base.trainable = False\n",
        "  vgg16_aug = tf.keras.Sequential()\n",
        "  vgg16_aug.add(vgg16_base)\n",
        "  vgg16_aug.add(tf.keras.layers.GlobalAveragePooling2D())\n",
        "  vgg16_aug.add(tf.keras.layers.Flatten())\n",
        "  vgg16_aug.add(tf.keras.layers.Dense(256, activation='relu'))\n",
        "  vgg16_aug.add(tf.keras.layers.Dropout(0.5))\n",
        "  vgg16_aug.add(tf.keras.layers.Dense(256, activation='relu'))\n",
        "  vgg16_aug.add(tf.keras.layers.Dropout(0.5))\n",
        "  vgg16_aug.add(tf.keras.layers.Dense(3, activation='softmax'))\n",
        "  vgg16_aug.compile(loss='categorical_crossentropy', \n",
        "                optimizer=optimizer,\n",
        "                metrics=['accuracy'])\n",
        "  \n",
        "  early = EarlyStopping(monitor=\"val_loss\", mode=\"min\", restore_best_weights=True, patience=5)\n",
        "  callbacks_list = [early, TuneReportCallback({\"mean_accuracy\": \"accuracy\"})]\n",
        "\n",
        "  # get data \n",
        "  train_gen = ImageDataGenerator(rescale=1/255,validation_split=0.2)\n",
        "  test_gen = ImageDataGenerator(rescale=1/255)\n",
        "\n",
        "  train_data = train_gen.flow_from_directory(directory=path + '/train', \n",
        "                                            target_size=target_size, subset='training')\n",
        "  val_data = train_gen.flow_from_directory(directory=path + '/train', \n",
        "                                            target_size=target_size,subset='validation')\n",
        "  test_data = test_gen.flow_from_directory(directory=path + '/test', \n",
        "                                          target_size=target_size)\n",
        "\n",
        "  # Compile Train mdoel\n",
        "  vgg16_aug.fit(train_data,\n",
        "            validation_data = val_data, \n",
        "            epochs=50, verbose=False,  \n",
        "            callbacks=callbacks_list)\n"
      ]
    },
    {
      "cell_type": "code",
      "execution_count": null,
      "metadata": {
        "colab": {
          "base_uri": "https://localhost:8080/",
          "height": 1000
        },
        "id": "6bV2iC4OluXh",
        "outputId": "1d2fcb09-2b70-4dc2-971c-b0a039d58bdc"
      },
      "outputs": [
        {
          "data": {
            "text/html": [
              "<div class=\"tuneStatus\">\n",
              "  <div style=\"display: flex;flex-direction: row\">\n",
              "    <div style=\"display: flex;flex-direction: column;\">\n",
              "      <h3>Tune Status</h3>\n",
              "      <table>\n",
              "<tbody>\n",
              "<tr><td>Current time:</td><td>2023-05-04 23:13:55</td></tr>\n",
              "<tr><td>Running for: </td><td>01:17:15.89        </td></tr>\n",
              "<tr><td>Memory:      </td><td>5.4/12.7 GiB       </td></tr>\n",
              "</tbody>\n",
              "</table>\n",
              "    </div>\n",
              "    <div class=\"vDivider\"></div>\n",
              "    <div class=\"systemInfo\">\n",
              "      <h3>System Info</h3>\n",
              "      Using HyperBand: num_stopped=0 total_brackets=2<br>Round #0:<br>  Bracket(Max Size (n)=6, Milestone (r)=200, completed=100.0%): {TERMINATED: 6} <br>  Bracket(Max Size (n)=3, Milestone (r)=134, completed=100.0%): {TERMINATED: 4} <br>Logical resource usage: 0/2 CPUs, 0/1 GPUs\n",
              "    </div>\n",
              "    \n",
              "  </div>\n",
              "  <div class=\"hDivider\"></div>\n",
              "  <div class=\"trialStatus\">\n",
              "    <h3>Trial Status</h3>\n",
              "    <table>\n",
              "<thead>\n",
              "<tr><th>Trial name             </th><th>status    </th><th>loc              </th><th style=\"text-align: right;\">  learning_rate</th><th style=\"text-align: right;\">  momentum</th><th>optimizer_name  </th><th style=\"text-align: right;\">     acc</th><th style=\"text-align: right;\">  iter</th><th style=\"text-align: right;\">  total time (s)</th></tr>\n",
              "</thead>\n",
              "<tbody>\n",
              "<tr><td>train_vgg16_8c2f8_00000</td><td>TERMINATED</td><td>172.28.0.12:2799 </td><td style=\"text-align: right;\">     0.00204281</td><td style=\"text-align: right;\"> 0.07313  </td><td>adagrad         </td><td style=\"text-align: right;\">0.656716</td><td style=\"text-align: right;\">    50</td><td style=\"text-align: right;\">         653.384</td></tr>\n",
              "<tr><td>train_vgg16_8c2f8_00001</td><td>TERMINATED</td><td>172.28.0.12:10183</td><td style=\"text-align: right;\">     0.00780909</td><td style=\"text-align: right;\"> 0.538695 </td><td>adam            </td><td style=\"text-align: right;\">0.850746</td><td style=\"text-align: right;\">    17</td><td style=\"text-align: right;\">         233.688</td></tr>\n",
              "<tr><td>train_vgg16_8c2f8_00002</td><td>TERMINATED</td><td>172.28.0.12:12630</td><td style=\"text-align: right;\">     0.00349859</td><td style=\"text-align: right;\"> 0.904007 </td><td>adagrad         </td><td style=\"text-align: right;\">0.736318</td><td style=\"text-align: right;\">    50</td><td style=\"text-align: right;\">         649.285</td></tr>\n",
              "<tr><td>train_vgg16_8c2f8_00003</td><td>TERMINATED</td><td>172.28.0.12:19718</td><td style=\"text-align: right;\">     0.00929702</td><td style=\"text-align: right;\"> 0.614568 </td><td>adam            </td><td style=\"text-align: right;\">0.80597 </td><td style=\"text-align: right;\">    17</td><td style=\"text-align: right;\">         229.89 </td></tr>\n",
              "<tr><td>train_vgg16_8c2f8_00004</td><td>TERMINATED</td><td>172.28.0.12:21065</td><td style=\"text-align: right;\">     0.00640116</td><td style=\"text-align: right;\"> 0.62672  </td><td>sgd             </td><td style=\"text-align: right;\">0.81592 </td><td style=\"text-align: right;\">    50</td><td style=\"text-align: right;\">         650.215</td></tr>\n",
              "<tr><td>train_vgg16_8c2f8_00005</td><td>TERMINATED</td><td>172.28.0.12:24626</td><td style=\"text-align: right;\">     0.00535241</td><td style=\"text-align: right;\"> 0.182043 </td><td>sgd             </td><td style=\"text-align: right;\">0.686567</td><td style=\"text-align: right;\">    50</td><td style=\"text-align: right;\">         658.94 </td></tr>\n",
              "<tr><td>train_vgg16_8c2f8_00006</td><td>TERMINATED</td><td>172.28.0.12:6378 </td><td style=\"text-align: right;\">     0.00733621</td><td style=\"text-align: right;\"> 0.0105732</td><td>adam            </td><td style=\"text-align: right;\">0.925373</td><td style=\"text-align: right;\">    27</td><td style=\"text-align: right;\">         362.421</td></tr>\n",
              "<tr><td>train_vgg16_8c2f8_00007</td><td>TERMINATED</td><td>172.28.0.12:8397 </td><td style=\"text-align: right;\">     0.00289804</td><td style=\"text-align: right;\"> 0.439914 </td><td>adam            </td><td style=\"text-align: right;\">0.950249</td><td style=\"text-align: right;\">    23</td><td style=\"text-align: right;\">         315.047</td></tr>\n",
              "<tr><td>train_vgg16_8c2f8_00008</td><td>TERMINATED</td><td>172.28.0.12:11543</td><td style=\"text-align: right;\">     0.00917122</td><td style=\"text-align: right;\"> 0.523356 </td><td>adam            </td><td style=\"text-align: right;\">0.80597 </td><td style=\"text-align: right;\">    13</td><td style=\"text-align: right;\">         182.254</td></tr>\n",
              "<tr><td>train_vgg16_8c2f8_00009</td><td>TERMINATED</td><td>172.28.0.12:16176</td><td style=\"text-align: right;\">     0.00430544</td><td style=\"text-align: right;\"> 0.890005 </td><td>adagrad         </td><td style=\"text-align: right;\">0.756219</td><td style=\"text-align: right;\">    50</td><td style=\"text-align: right;\">         644.595</td></tr>\n",
              "</tbody>\n",
              "</table>\n",
              "  </div>\n",
              "</div>\n",
              "<style>\n",
              ".tuneStatus {\n",
              "  color: var(--jp-ui-font-color1);\n",
              "}\n",
              ".tuneStatus .systemInfo {\n",
              "  display: flex;\n",
              "  flex-direction: column;\n",
              "}\n",
              ".tuneStatus td {\n",
              "  white-space: nowrap;\n",
              "}\n",
              ".tuneStatus .trialStatus {\n",
              "  display: flex;\n",
              "  flex-direction: column;\n",
              "}\n",
              ".tuneStatus h3 {\n",
              "  font-weight: bold;\n",
              "}\n",
              ".tuneStatus .hDivider {\n",
              "  border-bottom-width: var(--jp-border-width);\n",
              "  border-bottom-color: var(--jp-border-color0);\n",
              "  border-bottom-style: solid;\n",
              "}\n",
              ".tuneStatus .vDivider {\n",
              "  border-left-width: var(--jp-border-width);\n",
              "  border-left-color: var(--jp-border-color0);\n",
              "  border-left-style: solid;\n",
              "  margin: 0.5em 1em 0.5em 1em;\n",
              "}\n",
              "</style>\n"
            ],
            "text/plain": [
              "<IPython.core.display.HTML object>"
            ]
          },
          "metadata": {},
          "output_type": "display_data"
        },
        {
          "name": "stderr",
          "output_type": "stream",
          "text": [
            "\u001b[2m\u001b[36m(pid=2799)\u001b[0m 2023-05-04 21:56:45.133574: W tensorflow/compiler/tf2tensorrt/utils/py_utils.cc:38] TF-TRT Warning: Could not find TensorRT\n",
            "\u001b[2m\u001b[36m(train_vgg16 pid=2799)\u001b[0m 2023-05-04 21:56:47.565662: W tensorflow/core/common_runtime/gpu/gpu_bfc_allocator.cc:47] Overriding orig_value setting because the TF_FORCE_GPU_ALLOW_GROWTH environment variable is set. Original config value was 0.\n"
          ]
        },
        {
          "name": "stdout",
          "output_type": "stream",
          "text": [
            "\u001b[2m\u001b[36m(train_vgg16 pid=2799)\u001b[0m Found 66 images belonging to 3 classes.\u001b[32m [repeated 3x across cluster] (Ray deduplicates logs by default. Set RAY_DEDUP_LOGS=0 to disable log deduplication, or see https://docs.ray.io/en/master/ray-observability/ray-logging.html#log-deduplication for more options.)\u001b[0m\n"
          ]
        },
        {
          "data": {
            "text/html": [
              "<div class=\"trialProgress\">\n",
              "  <h3>Trial Progress</h3>\n",
              "  <table>\n",
              "<thead>\n",
              "<tr><th>Trial name             </th><th>date               </th><th>done  </th><th>experiment_tag                                               </th><th>hostname    </th><th style=\"text-align: right;\">  iterations_since_restore</th><th style=\"text-align: right;\">  mean_accuracy</th><th>node_ip    </th><th style=\"text-align: right;\">  pid</th><th style=\"text-align: right;\">  time_since_restore</th><th style=\"text-align: right;\">  time_this_iter_s</th><th style=\"text-align: right;\">  time_total_s</th><th style=\"text-align: right;\">  timestamp</th><th style=\"text-align: right;\">  training_iteration</th><th>trial_id   </th></tr>\n",
              "</thead>\n",
              "<tbody>\n",
              "<tr><td>train_vgg16_8c2f8_00000</td><td>2023-05-04_22-07-39</td><td>True  </td><td>0_learning_rate=0.0020,momentum=0.0731,optimizer_name=adagrad</td><td>d6af9e493096</td><td style=\"text-align: right;\">                        50</td><td style=\"text-align: right;\">       0.656716</td><td>172.28.0.12</td><td style=\"text-align: right;\"> 2799</td><td style=\"text-align: right;\">             653.384</td><td style=\"text-align: right;\">           13.1774</td><td style=\"text-align: right;\">       653.384</td><td style=\"text-align: right;\"> 1683238059</td><td style=\"text-align: right;\">                  50</td><td>8c2f8_00000</td></tr>\n",
              "<tr><td>train_vgg16_8c2f8_00001</td><td>2023-05-04_22-23-07</td><td>True  </td><td>1_learning_rate=0.0078,momentum=0.5387,optimizer_name=adam   </td><td>d6af9e493096</td><td style=\"text-align: right;\">                        17</td><td style=\"text-align: right;\">       0.850746</td><td>172.28.0.12</td><td style=\"text-align: right;\">10183</td><td style=\"text-align: right;\">             233.688</td><td style=\"text-align: right;\">           13.1022</td><td style=\"text-align: right;\">       233.688</td><td style=\"text-align: right;\"> 1683238987</td><td style=\"text-align: right;\">                  17</td><td>8c2f8_00001</td></tr>\n",
              "<tr><td>train_vgg16_8c2f8_00002</td><td>2023-05-04_22-37-09</td><td>True  </td><td>2_learning_rate=0.0035,momentum=0.9040,optimizer_name=adagrad</td><td>d6af9e493096</td><td style=\"text-align: right;\">                        50</td><td style=\"text-align: right;\">       0.736318</td><td>172.28.0.12</td><td style=\"text-align: right;\">12630</td><td style=\"text-align: right;\">             649.285</td><td style=\"text-align: right;\">           11.4634</td><td style=\"text-align: right;\">       649.285</td><td style=\"text-align: right;\"> 1683239829</td><td style=\"text-align: right;\">                  50</td><td>8c2f8_00002</td></tr>\n",
              "<tr><td>train_vgg16_8c2f8_00003</td><td>2023-05-04_22-51-57</td><td>True  </td><td>3_learning_rate=0.0093,momentum=0.6146,optimizer_name=adam   </td><td>d6af9e493096</td><td style=\"text-align: right;\">                        17</td><td style=\"text-align: right;\">       0.80597 </td><td>172.28.0.12</td><td style=\"text-align: right;\">19718</td><td style=\"text-align: right;\">             229.89 </td><td style=\"text-align: right;\">           13.1373</td><td style=\"text-align: right;\">       229.89 </td><td style=\"text-align: right;\"> 1683240717</td><td style=\"text-align: right;\">                  17</td><td>8c2f8_00003</td></tr>\n",
              "<tr><td>train_vgg16_8c2f8_00004</td><td>2023-05-04_23-02-51</td><td>True  </td><td>4_learning_rate=0.0064,momentum=0.6267,optimizer_name=sgd    </td><td>d6af9e493096</td><td style=\"text-align: right;\">                        50</td><td style=\"text-align: right;\">       0.81592 </td><td>172.28.0.12</td><td style=\"text-align: right;\">21065</td><td style=\"text-align: right;\">             650.215</td><td style=\"text-align: right;\">           13.197 </td><td style=\"text-align: right;\">       650.215</td><td style=\"text-align: right;\"> 1683241371</td><td style=\"text-align: right;\">                  50</td><td>8c2f8_00004</td></tr>\n",
              "<tr><td>train_vgg16_8c2f8_00005</td><td>2023-05-04_23-13-55</td><td>True  </td><td>5_learning_rate=0.0054,momentum=0.1820,optimizer_name=sgd    </td><td>d6af9e493096</td><td style=\"text-align: right;\">                        50</td><td style=\"text-align: right;\">       0.686567</td><td>172.28.0.12</td><td style=\"text-align: right;\">24626</td><td style=\"text-align: right;\">             658.94 </td><td style=\"text-align: right;\">           12.2561</td><td style=\"text-align: right;\">       658.94 </td><td style=\"text-align: right;\"> 1683242035</td><td style=\"text-align: right;\">                  50</td><td>8c2f8_00005</td></tr>\n",
              "<tr><td>train_vgg16_8c2f8_00006</td><td>2023-05-04_22-13-47</td><td>True  </td><td>6_learning_rate=0.0073,momentum=0.0106,optimizer_name=adam   </td><td>d6af9e493096</td><td style=\"text-align: right;\">                        27</td><td style=\"text-align: right;\">       0.925373</td><td>172.28.0.12</td><td style=\"text-align: right;\"> 6378</td><td style=\"text-align: right;\">             362.421</td><td style=\"text-align: right;\">           11.8212</td><td style=\"text-align: right;\">       362.421</td><td style=\"text-align: right;\"> 1683238427</td><td style=\"text-align: right;\">                  27</td><td>8c2f8_00006</td></tr>\n",
              "<tr><td>train_vgg16_8c2f8_00007</td><td>2023-05-04_22-19-08</td><td>True  </td><td>                                                             </td><td>d6af9e493096</td><td style=\"text-align: right;\">                        23</td><td style=\"text-align: right;\">       0.950249</td><td>172.28.0.12</td><td style=\"text-align: right;\"> 8397</td><td style=\"text-align: right;\">             315.047</td><td style=\"text-align: right;\">           13.192 </td><td style=\"text-align: right;\">       315.047</td><td style=\"text-align: right;\"> 1683238748</td><td style=\"text-align: right;\">                  23</td><td>8c2f8_00007</td></tr>\n",
              "<tr><td>train_vgg16_8c2f8_00008</td><td>2023-05-04_22-26-14</td><td>True  </td><td>8_learning_rate=0.0092,momentum=0.5234,optimizer_name=adam   </td><td>d6af9e493096</td><td style=\"text-align: right;\">                        13</td><td style=\"text-align: right;\">       0.80597 </td><td>172.28.0.12</td><td style=\"text-align: right;\">11543</td><td style=\"text-align: right;\">             182.254</td><td style=\"text-align: right;\">           12.4733</td><td style=\"text-align: right;\">       182.254</td><td style=\"text-align: right;\"> 1683239174</td><td style=\"text-align: right;\">                  13</td><td>8c2f8_00008</td></tr>\n",
              "<tr><td>train_vgg16_8c2f8_00009</td><td>2023-05-04_22-48-00</td><td>True  </td><td>9_learning_rate=0.0043,momentum=0.8900,optimizer_name=adagrad</td><td>d6af9e493096</td><td style=\"text-align: right;\">                        50</td><td style=\"text-align: right;\">       0.756219</td><td>172.28.0.12</td><td style=\"text-align: right;\">16176</td><td style=\"text-align: right;\">             644.595</td><td style=\"text-align: right;\">           11.3805</td><td style=\"text-align: right;\">       644.595</td><td style=\"text-align: right;\"> 1683240480</td><td style=\"text-align: right;\">                  50</td><td>8c2f8_00009</td></tr>\n",
              "</tbody>\n",
              "</table>\n",
              "</div>\n",
              "<style>\n",
              ".trialProgress {\n",
              "  display: flex;\n",
              "  flex-direction: column;\n",
              "  color: var(--jp-ui-font-color1);\n",
              "}\n",
              ".trialProgress h3 {\n",
              "  font-weight: bold;\n",
              "}\n",
              ".trialProgress td {\n",
              "  white-space: nowrap;\n",
              "}\n",
              "</style>\n"
            ],
            "text/plain": [
              "<IPython.core.display.HTML object>"
            ]
          },
          "metadata": {},
          "output_type": "display_data"
        },
        {
          "name": "stderr",
          "output_type": "stream",
          "text": [
            "\u001b[2m\u001b[36m(pid=6378)\u001b[0m 2023-05-04 22:07:43.506316: W tensorflow/compiler/tf2tensorrt/utils/py_utils.cc:38] TF-TRT Warning: Could not find TensorRT\n",
            "\u001b[2m\u001b[36m(train_vgg16 pid=6378)\u001b[0m 2023-05-04 22:07:45.952612: W tensorflow/core/common_runtime/gpu/gpu_bfc_allocator.cc:47] Overriding orig_value setting because the TF_FORCE_GPU_ALLOW_GROWTH environment variable is set. Original config value was 0.\n"
          ]
        },
        {
          "name": "stdout",
          "output_type": "stream",
          "text": [
            "\u001b[2m\u001b[36m(train_vgg16 pid=6378)\u001b[0m Found 66 images belonging to 3 classes.\u001b[32m [repeated 3x across cluster]\u001b[0m\n"
          ]
        },
        {
          "name": "stderr",
          "output_type": "stream",
          "text": [
            "\u001b[2m\u001b[36m(pid=8397)\u001b[0m 2023-05-04 22:13:51.801911: W tensorflow/compiler/tf2tensorrt/utils/py_utils.cc:38] TF-TRT Warning: Could not find TensorRT\n",
            "\u001b[2m\u001b[36m(train_vgg16 pid=8397)\u001b[0m 2023-05-04 22:13:55.075312: W tensorflow/core/common_runtime/gpu/gpu_bfc_allocator.cc:47] Overriding orig_value setting because the TF_FORCE_GPU_ALLOW_GROWTH environment variable is set. Original config value was 0.\n"
          ]
        },
        {
          "name": "stdout",
          "output_type": "stream",
          "text": [
            "\u001b[2m\u001b[36m(train_vgg16 pid=8397)\u001b[0m Found 66 images belonging to 3 classes.\u001b[32m [repeated 3x across cluster]\u001b[0m\n"
          ]
        },
        {
          "name": "stderr",
          "output_type": "stream",
          "text": [
            "\u001b[2m\u001b[36m(pid=10183)\u001b[0m 2023-05-04 22:19:11.670480: W tensorflow/compiler/tf2tensorrt/utils/py_utils.cc:38] TF-TRT Warning: Could not find TensorRT\n",
            "\u001b[2m\u001b[36m(train_vgg16 pid=10183)\u001b[0m 2023-05-04 22:19:14.866553: W tensorflow/core/common_runtime/gpu/gpu_bfc_allocator.cc:47] Overriding orig_value setting because the TF_FORCE_GPU_ALLOW_GROWTH environment variable is set. Original config value was 0.\n"
          ]
        },
        {
          "name": "stdout",
          "output_type": "stream",
          "text": [
            "\u001b[2m\u001b[36m(train_vgg16 pid=10183)\u001b[0m Found 66 images belonging to 3 classes.\u001b[32m [repeated 3x across cluster]\u001b[0m\n"
          ]
        },
        {
          "name": "stderr",
          "output_type": "stream",
          "text": [
            "\u001b[2m\u001b[36m(pid=11543)\u001b[0m 2023-05-04 22:23:10.640299: W tensorflow/compiler/tf2tensorrt/utils/py_utils.cc:38] TF-TRT Warning: Could not find TensorRT\n",
            "\u001b[2m\u001b[36m(train_vgg16 pid=11543)\u001b[0m 2023-05-04 22:23:13.064875: W tensorflow/core/common_runtime/gpu/gpu_bfc_allocator.cc:47] Overriding orig_value setting because the TF_FORCE_GPU_ALLOW_GROWTH environment variable is set. Original config value was 0.\n"
          ]
        },
        {
          "name": "stdout",
          "output_type": "stream",
          "text": [
            "\u001b[2m\u001b[36m(train_vgg16 pid=11543)\u001b[0m Found 66 images belonging to 3 classes.\u001b[32m [repeated 3x across cluster]\u001b[0m\n"
          ]
        },
        {
          "name": "stderr",
          "output_type": "stream",
          "text": [
            "\u001b[2m\u001b[36m(pid=12630)\u001b[0m 2023-05-04 22:26:18.480014: W tensorflow/compiler/tf2tensorrt/utils/py_utils.cc:38] TF-TRT Warning: Could not find TensorRT\n",
            "\u001b[2m\u001b[36m(train_vgg16 pid=12630)\u001b[0m 2023-05-04 22:26:21.903756: W tensorflow/core/common_runtime/gpu/gpu_bfc_allocator.cc:47] Overriding orig_value setting because the TF_FORCE_GPU_ALLOW_GROWTH environment variable is set. Original config value was 0.\n"
          ]
        },
        {
          "name": "stdout",
          "output_type": "stream",
          "text": [
            "\u001b[2m\u001b[36m(train_vgg16 pid=12630)\u001b[0m Found 66 images belonging to 3 classes.\u001b[32m [repeated 3x across cluster]\u001b[0m\n"
          ]
        },
        {
          "name": "stderr",
          "output_type": "stream",
          "text": [
            "\u001b[2m\u001b[36m(pid=16176)\u001b[0m 2023-05-04 22:37:14.188505: W tensorflow/compiler/tf2tensorrt/utils/py_utils.cc:38] TF-TRT Warning: Could not find TensorRT\n",
            "\u001b[2m\u001b[36m(train_vgg16 pid=16176)\u001b[0m 2023-05-04 22:37:16.800350: W tensorflow/core/common_runtime/gpu/gpu_bfc_allocator.cc:47] Overriding orig_value setting because the TF_FORCE_GPU_ALLOW_GROWTH environment variable is set. Original config value was 0.\n"
          ]
        },
        {
          "name": "stdout",
          "output_type": "stream",
          "text": [
            "\u001b[2m\u001b[36m(train_vgg16 pid=16176)\u001b[0m Found 201 images belonging to 3 classes.\n",
            "\u001b[2m\u001b[36m(train_vgg16 pid=16176)\u001b[0m Found 50 images belonging to 3 classes.\n",
            "\u001b[2m\u001b[36m(train_vgg16 pid=16176)\u001b[0m Found 66 images belonging to 3 classes.\n"
          ]
        },
        {
          "name": "stderr",
          "output_type": "stream",
          "text": [
            "\u001b[2m\u001b[36m(pid=19718)\u001b[0m 2023-05-04 22:48:05.263032: W tensorflow/compiler/tf2tensorrt/utils/py_utils.cc:38] TF-TRT Warning: Could not find TensorRT\n",
            "\u001b[2m\u001b[36m(train_vgg16 pid=19718)\u001b[0m 2023-05-04 22:48:08.265557: W tensorflow/core/common_runtime/gpu/gpu_bfc_allocator.cc:47] Overriding orig_value setting because the TF_FORCE_GPU_ALLOW_GROWTH environment variable is set. Original config value was 0.\n"
          ]
        },
        {
          "name": "stdout",
          "output_type": "stream",
          "text": [
            "\u001b[2m\u001b[36m(train_vgg16 pid=19718)\u001b[0m Found 201 images belonging to 3 classes.\n",
            "\u001b[2m\u001b[36m(train_vgg16 pid=19718)\u001b[0m Found 50 images belonging to 3 classes.\n",
            "\u001b[2m\u001b[36m(train_vgg16 pid=19718)\u001b[0m Found 66 images belonging to 3 classes.\n"
          ]
        },
        {
          "name": "stderr",
          "output_type": "stream",
          "text": [
            "\u001b[2m\u001b[36m(pid=21065)\u001b[0m 2023-05-04 22:51:59.884142: W tensorflow/compiler/tf2tensorrt/utils/py_utils.cc:38] TF-TRT Warning: Could not find TensorRT\n",
            "\u001b[2m\u001b[36m(train_vgg16 pid=21065)\u001b[0m 2023-05-04 22:52:02.345030: W tensorflow/core/common_runtime/gpu/gpu_bfc_allocator.cc:47] Overriding orig_value setting because the TF_FORCE_GPU_ALLOW_GROWTH environment variable is set. Original config value was 0.\n"
          ]
        },
        {
          "name": "stdout",
          "output_type": "stream",
          "text": [
            "\u001b[2m\u001b[36m(train_vgg16 pid=21065)\u001b[0m Found 66 images belonging to 3 classes.\u001b[32m [repeated 3x across cluster]\u001b[0m\n"
          ]
        },
        {
          "name": "stderr",
          "output_type": "stream",
          "text": [
            "\u001b[2m\u001b[36m(pid=24626)\u001b[0m 2023-05-04 23:02:55.005611: W tensorflow/compiler/tf2tensorrt/utils/py_utils.cc:38] TF-TRT Warning: Could not find TensorRT\n",
            "\u001b[2m\u001b[36m(train_vgg16 pid=24626)\u001b[0m 2023-05-04 23:02:57.516843: W tensorflow/core/common_runtime/gpu/gpu_bfc_allocator.cc:47] Overriding orig_value setting because the TF_FORCE_GPU_ALLOW_GROWTH environment variable is set. Original config value was 0.\n"
          ]
        },
        {
          "name": "stdout",
          "output_type": "stream",
          "text": [
            "\u001b[2m\u001b[36m(train_vgg16 pid=24626)\u001b[0m Found 201 images belonging to 3 classes.\n",
            "\u001b[2m\u001b[36m(train_vgg16 pid=24626)\u001b[0m Found 50 images belonging to 3 classes.\n",
            "\u001b[2m\u001b[36m(train_vgg16 pid=24626)\u001b[0m Found 66 images belonging to 3 classes.\n"
          ]
        },
        {
          "name": "stderr",
          "output_type": "stream",
          "text": [
            "2023-05-04 23:13:55,393\tINFO tune.py:945 -- Total run time: 4635.96 seconds (4635.88 seconds for the tuning loop).\n"
          ]
        }
      ],
      "source": [
        "hyperband = HyperBandScheduler(max_t=200)\n",
        "\n",
        "start_time = time.perf_counter()\n",
        "vgg16_tuning_analysis = tune.run(\n",
        "        train_vgg16,\n",
        "        name=\"vgg16_exp\",\n",
        "        metric=\"mean_accuracy\",\n",
        "        mode=\"max\",\n",
        "        stop={\n",
        "            \"mean_accuracy\": 0.95,\n",
        "        },\n",
        "        resources_per_trial={\n",
        "            \"gpu\": 1\n",
        "        },\n",
        "        config={\n",
        "            'learning_rate': tune.uniform(1e-4, 1e-2),\n",
        "            'momentum': tune.uniform(0, 1),\n",
        "            'optimizer_name': tune.choice(['adam', 'sgd', 'adagrad'])\n",
        "        },\n",
        "        scheduler=hyperband,\n",
        "        num_samples=10\n",
        "    )"
      ]
    },
    {
      "cell_type": "code",
      "execution_count": null,
      "metadata": {
        "colab": {
          "base_uri": "https://localhost:8080/"
        },
        "id": "tDSLOKe-mT55",
        "outputId": "1de86566-0f97-496f-ab99-12f32a4cdcae"
      },
      "outputs": [
        {
          "data": {
            "text/plain": [
              "{'vgg_16': {'time': '4636.2663 seconds',\n",
              "  'best_model_params': {'learning_rate': 0.0028980417092137317,\n",
              "   'momentum': 0.43991393898898634,\n",
              "   'optimizer_name': 'adam'},\n",
              "  'accuracy': 0.9502487778663635}}"
            ]
          },
          "execution_count": 13,
          "metadata": {},
          "output_type": "execute_result"
        }
      ],
      "source": [
        "best_trial = vgg16_tuning_analysis.get_best_trial(\"mean_accuracy\", \"max\", \"last\")\n",
        "best_accuracy = best_trial.last_result[\"mean_accuracy\"]\n",
        "\n",
        "vgg16_results = {}\n",
        "vgg16_results['vgg_16'] = {\n",
        "    \"time\" : f'{round(time.perf_counter() - start_time, 4)} seconds',\n",
        "    \"best_model_params\" : vgg16_tuning_analysis.best_config,\n",
        "    \"accuracy\": best_accuracy\n",
        "}\n",
        "\n",
        "vgg16_results"
      ]
    },
    {
      "cell_type": "code",
      "execution_count": null,
      "metadata": {
        "id": "b1i5YkCom44J"
      },
      "outputs": [],
      "source": []
    },
    {
      "attachments": {},
      "cell_type": "markdown",
      "metadata": {
        "id": "NEEfuKnUm93k"
      },
      "source": [
        "### ResNet50 Tuning"
      ]
    },
    {
      "cell_type": "code",
      "execution_count": null,
      "metadata": {
        "id": "7DzLi-qCnCQC"
      },
      "outputs": [],
      "source": [
        "def train_resnet50(config):\n",
        "  # Set optimizers \n",
        "  optimizer_name = config.get('optimizer_name', 'adam')\n",
        "  learning_rate = config.get('learning_rate', 0.001)\n",
        "  momentum = config.get('momentum', 0.0)\n",
        "\n",
        "  if optimizer_name == 'adam':\n",
        "    optimizer = Adam(learning_rate=learning_rate)\n",
        "  elif optimizer_name == 'sgd':\n",
        "    optimizer = SGD(learning_rate=learning_rate, momentum=momentum)\n",
        "  elif optimizer_name == 'adagrad':\n",
        "    optimizer = Adagrad(learning_rate=learning_rate)\n",
        "  else: # default case\n",
        "    optimizer = Adam(learning_rate=learning_rate)\n",
        "\n",
        "  resnet_base.trainable = False\n",
        "  resnet_aug = tf.keras.Sequential()\n",
        "  resnet_aug.add(resnet_base)\n",
        "\n",
        "  resnet_aug.add(GlobalAveragePooling2D())\n",
        "\n",
        "  resnet_aug.add(tf.keras.layers.Dense(512))\n",
        "  resnet_aug.add(tf.keras.layers.Activation('relu'))\n",
        "  resnet_aug.add(tf.keras.layers.Dropout(0.05))\n",
        "\n",
        "  resnet_aug.add(tf.keras.layers.Dense(512))\n",
        "  resnet_aug.add(tf.keras.layers.Activation('relu'))\n",
        "\n",
        "  resnet_aug.add(tf.keras.layers.Dense(3, activation='softmax'))\n",
        "\n",
        "  resnet_aug.compile(loss='categorical_crossentropy', \n",
        "                optimizer=optimizer,\n",
        "                metrics=['accuracy'])\n",
        "\n",
        "  early = tf.keras.callbacks.EarlyStopping(monitor=\"val_loss\", mode=\"min\",restore_best_weights=True, patience=7)\n",
        "  callbacks_list = [early, TuneReportCallback({\"mean_accuracy\": \"accuracy\"})]\n",
        "\n",
        "  # get data \n",
        "  train_gen = ImageDataGenerator(rescale=1/255,validation_split=0.2)\n",
        "  test_gen = ImageDataGenerator(rescale=1/255)\n",
        "\n",
        "  train_data = train_gen.flow_from_directory(directory=path + '/train', \n",
        "                                            target_size=target_size, subset='training')\n",
        "  val_data = train_gen.flow_from_directory(directory=path + '/train', \n",
        "                                            target_size=target_size,subset='validation')\n",
        "  test_data = test_gen.flow_from_directory(directory=path + '/test', \n",
        "                                          target_size=target_size)\n",
        "\n",
        "   # Train model and save history\n",
        "  history = resnet_aug.fit(\n",
        "          train_data,\n",
        "          validation_data = val_data,\n",
        "          epochs=50,\n",
        "          shuffle = False,\n",
        "          verbose=False,\n",
        "          callbacks=callbacks_list)\n"
      ]
    },
    {
      "cell_type": "code",
      "execution_count": null,
      "metadata": {
        "colab": {
          "base_uri": "https://localhost:8080/",
          "height": 1000
        },
        "id": "3jk_4qC_oNQi",
        "outputId": "12764432-8dd7-4443-ca58-f92e889034e4"
      },
      "outputs": [
        {
          "data": {
            "text/html": [
              "<div class=\"tuneStatus\">\n",
              "  <div style=\"display: flex;flex-direction: row\">\n",
              "    <div style=\"display: flex;flex-direction: column;\">\n",
              "      <h3>Tune Status</h3>\n",
              "      <table>\n",
              "<tbody>\n",
              "<tr><td>Current time:</td><td>2023-05-09 02:22:05</td></tr>\n",
              "<tr><td>Running for: </td><td>01:32:27.31        </td></tr>\n",
              "<tr><td>Memory:      </td><td>10.3/25.5 GiB      </td></tr>\n",
              "</tbody>\n",
              "</table>\n",
              "    </div>\n",
              "    <div class=\"vDivider\"></div>\n",
              "    <div class=\"systemInfo\">\n",
              "      <h3>System Info</h3>\n",
              "      Using HyperBand: num_stopped=0 total_brackets=2<br>Round #0:<br>  Bracket(Max Size (n)=6, Milestone (r)=200, completed=100.0%): {TERMINATED: 6} <br>  Bracket(Max Size (n)=3, Milestone (r)=134, completed=100.0%): {TERMINATED: 4} <br>Logical resource usage: 0/4 CPUs, 0/1 GPUs\n",
              "    </div>\n",
              "    \n",
              "  </div>\n",
              "  <div class=\"hDivider\"></div>\n",
              "  <div class=\"trialStatus\">\n",
              "    <h3>Trial Status</h3>\n",
              "    <table>\n",
              "<thead>\n",
              "<tr><th>Trial name                </th><th>status    </th><th>loc              </th><th style=\"text-align: right;\">  learning_rate</th><th style=\"text-align: right;\">  momentum</th><th>optimizer_name  </th><th style=\"text-align: right;\">     acc</th><th style=\"text-align: right;\">  iter</th><th style=\"text-align: right;\">  total time (s)</th></tr>\n",
              "</thead>\n",
              "<tbody>\n",
              "<tr><td>train_resnet50_602b3_00000</td><td>TERMINATED</td><td>172.28.0.12:60266</td><td style=\"text-align: right;\">     0.00347039</td><td style=\"text-align: right;\">  0.388453</td><td>sgd             </td><td style=\"text-align: right;\">0.671642</td><td style=\"text-align: right;\">    50</td><td style=\"text-align: right;\">         556.833</td></tr>\n",
              "<tr><td>train_resnet50_602b3_00001</td><td>TERMINATED</td><td>172.28.0.12:69481</td><td style=\"text-align: right;\">     0.00689543</td><td style=\"text-align: right;\">  0.315563</td><td>sgd             </td><td style=\"text-align: right;\">0.597015</td><td style=\"text-align: right;\">    50</td><td style=\"text-align: right;\">         570.913</td></tr>\n",
              "<tr><td>train_resnet50_602b3_00002</td><td>TERMINATED</td><td>172.28.0.12:76517</td><td style=\"text-align: right;\">     0.00148737</td><td style=\"text-align: right;\">  0.660065</td><td>adam            </td><td style=\"text-align: right;\">0.756219</td><td style=\"text-align: right;\">    37</td><td style=\"text-align: right;\">         430.451</td></tr>\n",
              "<tr><td>train_resnet50_602b3_00003</td><td>TERMINATED</td><td>172.28.0.12:79241</td><td style=\"text-align: right;\">     0.00749922</td><td style=\"text-align: right;\">  0.411596</td><td>adagrad         </td><td style=\"text-align: right;\">0.646766</td><td style=\"text-align: right;\">    50</td><td style=\"text-align: right;\">         563.685</td></tr>\n",
              "<tr><td>train_resnet50_602b3_00004</td><td>TERMINATED</td><td>172.28.0.12:86203</td><td style=\"text-align: right;\">     0.00588263</td><td style=\"text-align: right;\">  0.234718</td><td>sgd             </td><td style=\"text-align: right;\">0.577114</td><td style=\"text-align: right;\">    43</td><td style=\"text-align: right;\">         482.018</td></tr>\n",
              "<tr><td>train_resnet50_602b3_00005</td><td>TERMINATED</td><td>172.28.0.12:89238</td><td style=\"text-align: right;\">     0.00900224</td><td style=\"text-align: right;\">  0.413139</td><td>sgd             </td><td style=\"text-align: right;\">0.671642</td><td style=\"text-align: right;\">    42</td><td style=\"text-align: right;\">         474.429</td></tr>\n",
              "<tr><td>train_resnet50_602b3_00006</td><td>TERMINATED</td><td>172.28.0.12:63740</td><td style=\"text-align: right;\">     0.00307348</td><td style=\"text-align: right;\">  0.835581</td><td>sgd             </td><td style=\"text-align: right;\">0.656716</td><td style=\"text-align: right;\">    30</td><td style=\"text-align: right;\">         337.06 </td></tr>\n",
              "<tr><td>train_resnet50_602b3_00007</td><td>TERMINATED</td><td>172.28.0.12:65942</td><td style=\"text-align: right;\">     0.00204065</td><td style=\"text-align: right;\">  0.455934</td><td>adagrad         </td><td style=\"text-align: right;\">0.661692</td><td style=\"text-align: right;\">    50</td><td style=\"text-align: right;\">         565.605</td></tr>\n",
              "<tr><td>train_resnet50_602b3_00008</td><td>TERMINATED</td><td>172.28.0.12:73010</td><td style=\"text-align: right;\">     0.00440712</td><td style=\"text-align: right;\">  0.494886</td><td>adagrad         </td><td style=\"text-align: right;\">0.701493</td><td style=\"text-align: right;\">    50</td><td style=\"text-align: right;\">         565.682</td></tr>\n",
              "<tr><td>train_resnet50_602b3_00009</td><td>TERMINATED</td><td>172.28.0.12:82740</td><td style=\"text-align: right;\">     0.00555173</td><td style=\"text-align: right;\">  0.765598</td><td>adagrad         </td><td style=\"text-align: right;\">0.671642</td><td style=\"text-align: right;\">    50</td><td style=\"text-align: right;\">         553.986</td></tr>\n",
              "</tbody>\n",
              "</table>\n",
              "  </div>\n",
              "</div>\n",
              "<style>\n",
              ".tuneStatus {\n",
              "  color: var(--jp-ui-font-color1);\n",
              "}\n",
              ".tuneStatus .systemInfo {\n",
              "  display: flex;\n",
              "  flex-direction: column;\n",
              "}\n",
              ".tuneStatus td {\n",
              "  white-space: nowrap;\n",
              "}\n",
              ".tuneStatus .trialStatus {\n",
              "  display: flex;\n",
              "  flex-direction: column;\n",
              "}\n",
              ".tuneStatus h3 {\n",
              "  font-weight: bold;\n",
              "}\n",
              ".tuneStatus .hDivider {\n",
              "  border-bottom-width: var(--jp-border-width);\n",
              "  border-bottom-color: var(--jp-border-color0);\n",
              "  border-bottom-style: solid;\n",
              "}\n",
              ".tuneStatus .vDivider {\n",
              "  border-left-width: var(--jp-border-width);\n",
              "  border-left-color: var(--jp-border-color0);\n",
              "  border-left-style: solid;\n",
              "  margin: 0.5em 1em 0.5em 1em;\n",
              "}\n",
              "</style>\n"
            ],
            "text/plain": [
              "<IPython.core.display.HTML object>"
            ]
          },
          "metadata": {},
          "output_type": "display_data"
        },
        {
          "name": "stderr",
          "output_type": "stream",
          "text": [
            "2023-05-09 00:51:43,273\tWARNING worker.py:1986 -- Warning: The actor ImplicitFunc is very large (90 MiB). Check that its definition is not implicitly capturing a large array or other object in scope. Tip: use ray.put() to put large objects in the Ray object store.\n",
            "2023-05-09 00:51:43,495\tWARNING util.py:244 -- The `start_trial` operation took 13.792 s, which may be a performance bottleneck.\n",
            "\u001b[2m\u001b[36m(pid=60266)\u001b[0m 2023-05-09 00:51:46.673055: W tensorflow/compiler/tf2tensorrt/utils/py_utils.cc:38] TF-TRT Warning: Could not find TensorRT\n",
            "\u001b[2m\u001b[36m(pid=60266)\u001b[0m 2023-05-09 00:51:49.299866: W tensorflow/core/common_runtime/gpu/gpu_bfc_allocator.cc:47] Overriding orig_value setting because the TF_FORCE_GPU_ALLOW_GROWTH environment variable is set. Original config value was 0.\n"
          ]
        },
        {
          "name": "stdout",
          "output_type": "stream",
          "text": [
            "\u001b[2m\u001b[36m(train_resnet50 pid=60266)\u001b[0m Found 66 images belonging to 3 classes.\u001b[32m [repeated 5x across cluster]\u001b[0m\n"
          ]
        },
        {
          "data": {
            "text/html": [
              "<div class=\"trialProgress\">\n",
              "  <h3>Trial Progress</h3>\n",
              "  <table>\n",
              "<thead>\n",
              "<tr><th>Trial name                </th><th>date               </th><th>done  </th><th>experiment_tag                                               </th><th>hostname    </th><th style=\"text-align: right;\">  iterations_since_restore</th><th style=\"text-align: right;\">  mean_accuracy</th><th>node_ip    </th><th style=\"text-align: right;\">  pid</th><th style=\"text-align: right;\">  time_since_restore</th><th style=\"text-align: right;\">  time_this_iter_s</th><th style=\"text-align: right;\">  time_total_s</th><th style=\"text-align: right;\">  timestamp</th><th style=\"text-align: right;\">  training_iteration</th><th>trial_id   </th></tr>\n",
              "</thead>\n",
              "<tbody>\n",
              "<tr><td>train_resnet50_602b3_00000</td><td>2023-05-09_01-01-22</td><td>True  </td><td>0_learning_rate=0.0035,momentum=0.3885,optimizer_name=sgd    </td><td>19e987ff1893</td><td style=\"text-align: right;\">                        50</td><td style=\"text-align: right;\">       0.671642</td><td>172.28.0.12</td><td style=\"text-align: right;\">60266</td><td style=\"text-align: right;\">             556.833</td><td style=\"text-align: right;\">           11.0773</td><td style=\"text-align: right;\">       556.833</td><td style=\"text-align: right;\"> 1683594082</td><td style=\"text-align: right;\">                  50</td><td>602b3_00000</td></tr>\n",
              "<tr><td>train_resnet50_602b3_00001</td><td>2023-05-09_01-27-35</td><td>True  </td><td>1_learning_rate=0.0069,momentum=0.3156,optimizer_name=sgd    </td><td>19e987ff1893</td><td style=\"text-align: right;\">                        50</td><td style=\"text-align: right;\">       0.597015</td><td>172.28.0.12</td><td style=\"text-align: right;\">69481</td><td style=\"text-align: right;\">             570.913</td><td style=\"text-align: right;\">           11.0991</td><td style=\"text-align: right;\">       570.913</td><td style=\"text-align: right;\"> 1683595655</td><td style=\"text-align: right;\">                  50</td><td>602b3_00001</td></tr>\n",
              "<tr><td>train_resnet50_602b3_00002</td><td>2023-05-09_01-45-18</td><td>True  </td><td>2_learning_rate=0.0015,momentum=0.6601,optimizer_name=adam   </td><td>19e987ff1893</td><td style=\"text-align: right;\">                        37</td><td style=\"text-align: right;\">       0.756219</td><td>172.28.0.12</td><td style=\"text-align: right;\">76517</td><td style=\"text-align: right;\">             430.451</td><td style=\"text-align: right;\">           11.1042</td><td style=\"text-align: right;\">       430.451</td><td style=\"text-align: right;\"> 1683596718</td><td style=\"text-align: right;\">                  37</td><td>602b3_00002</td></tr>\n",
              "<tr><td>train_resnet50_602b3_00003</td><td>2023-05-09_01-55-15</td><td>True  </td><td>3_learning_rate=0.0075,momentum=0.4116,optimizer_name=adagrad</td><td>19e987ff1893</td><td style=\"text-align: right;\">                        50</td><td style=\"text-align: right;\">       0.646766</td><td>172.28.0.12</td><td style=\"text-align: right;\">79241</td><td style=\"text-align: right;\">             563.685</td><td style=\"text-align: right;\">           10.5766</td><td style=\"text-align: right;\">       563.685</td><td style=\"text-align: right;\"> 1683597315</td><td style=\"text-align: right;\">                  50</td><td>602b3_00003</td></tr>\n",
              "<tr><td>train_resnet50_602b3_00004</td><td>2023-05-09_02-13-38</td><td>True  </td><td>4_learning_rate=0.0059,momentum=0.2347,optimizer_name=sgd    </td><td>19e987ff1893</td><td style=\"text-align: right;\">                        43</td><td style=\"text-align: right;\">       0.577114</td><td>172.28.0.12</td><td style=\"text-align: right;\">86203</td><td style=\"text-align: right;\">             482.018</td><td style=\"text-align: right;\">           10.884 </td><td style=\"text-align: right;\">       482.018</td><td style=\"text-align: right;\"> 1683598418</td><td style=\"text-align: right;\">                  43</td><td>602b3_00004</td></tr>\n",
              "<tr><td>train_resnet50_602b3_00005</td><td>2023-05-09_02-22-05</td><td>True  </td><td>5_learning_rate=0.0090,momentum=0.4131,optimizer_name=sgd    </td><td>19e987ff1893</td><td style=\"text-align: right;\">                        42</td><td style=\"text-align: right;\">       0.671642</td><td>172.28.0.12</td><td style=\"text-align: right;\">89238</td><td style=\"text-align: right;\">             474.429</td><td style=\"text-align: right;\">           11.134 </td><td style=\"text-align: right;\">       474.429</td><td style=\"text-align: right;\"> 1683598925</td><td style=\"text-align: right;\">                  42</td><td>602b3_00005</td></tr>\n",
              "<tr><td>train_resnet50_602b3_00006</td><td>2023-05-09_01-07-32</td><td>True  </td><td>6_learning_rate=0.0031,momentum=0.8356,optimizer_name=sgd    </td><td>19e987ff1893</td><td style=\"text-align: right;\">                        30</td><td style=\"text-align: right;\">       0.656716</td><td>172.28.0.12</td><td style=\"text-align: right;\">63740</td><td style=\"text-align: right;\">             337.06 </td><td style=\"text-align: right;\">           10.8332</td><td style=\"text-align: right;\">       337.06 </td><td style=\"text-align: right;\"> 1683594452</td><td style=\"text-align: right;\">                  30</td><td>602b3_00006</td></tr>\n",
              "<tr><td>train_resnet50_602b3_00007</td><td>2023-05-09_01-17-30</td><td>True  </td><td>7_learning_rate=0.0020,momentum=0.4559,optimizer_name=adagrad</td><td>19e987ff1893</td><td style=\"text-align: right;\">                        50</td><td style=\"text-align: right;\">       0.661692</td><td>172.28.0.12</td><td style=\"text-align: right;\">65942</td><td style=\"text-align: right;\">             565.605</td><td style=\"text-align: right;\">           11.1252</td><td style=\"text-align: right;\">       565.605</td><td style=\"text-align: right;\"> 1683595050</td><td style=\"text-align: right;\">                  50</td><td>602b3_00007</td></tr>\n",
              "<tr><td>train_resnet50_602b3_00008</td><td>2023-05-09_01-37-34</td><td>True  </td><td>8_learning_rate=0.0044,momentum=0.4949,optimizer_name=adagrad</td><td>19e987ff1893</td><td style=\"text-align: right;\">                        50</td><td style=\"text-align: right;\">       0.701493</td><td>172.28.0.12</td><td style=\"text-align: right;\">73010</td><td style=\"text-align: right;\">             565.682</td><td style=\"text-align: right;\">           10.8791</td><td style=\"text-align: right;\">       565.682</td><td style=\"text-align: right;\"> 1683596254</td><td style=\"text-align: right;\">                  50</td><td>602b3_00008</td></tr>\n",
              "<tr><td>train_resnet50_602b3_00009</td><td>2023-05-09_02-05-02</td><td>True  </td><td>9_learning_rate=0.0056,momentum=0.7656,optimizer_name=adagrad</td><td>19e987ff1893</td><td style=\"text-align: right;\">                        50</td><td style=\"text-align: right;\">       0.671642</td><td>172.28.0.12</td><td style=\"text-align: right;\">82740</td><td style=\"text-align: right;\">             553.986</td><td style=\"text-align: right;\">           10.8789</td><td style=\"text-align: right;\">       553.986</td><td style=\"text-align: right;\"> 1683597902</td><td style=\"text-align: right;\">                  50</td><td>602b3_00009</td></tr>\n",
              "</tbody>\n",
              "</table>\n",
              "</div>\n",
              "<style>\n",
              ".trialProgress {\n",
              "  display: flex;\n",
              "  flex-direction: column;\n",
              "  color: var(--jp-ui-font-color1);\n",
              "}\n",
              ".trialProgress h3 {\n",
              "  font-weight: bold;\n",
              "}\n",
              ".trialProgress td {\n",
              "  white-space: nowrap;\n",
              "}\n",
              "</style>\n"
            ],
            "text/plain": [
              "<IPython.core.display.HTML object>"
            ]
          },
          "metadata": {},
          "output_type": "display_data"
        },
        {
          "name": "stderr",
          "output_type": "stream",
          "text": [
            "2023-05-09 01:01:33,401\tWARNING util.py:244 -- The `start_trial` operation took 10.847 s, which may be a performance bottleneck.\n",
            "\u001b[2m\u001b[36m(pid=63740)\u001b[0m 2023-05-09 01:01:36.700387: W tensorflow/compiler/tf2tensorrt/utils/py_utils.cc:38] TF-TRT Warning: Could not find TensorRT\n",
            "\u001b[2m\u001b[36m(pid=63740)\u001b[0m 2023-05-09 01:01:39.264126: W tensorflow/core/common_runtime/gpu/gpu_bfc_allocator.cc:47] Overriding orig_value setting because the TF_FORCE_GPU_ALLOW_GROWTH environment variable is set. Original config value was 0.\n"
          ]
        },
        {
          "name": "stdout",
          "output_type": "stream",
          "text": [
            "\u001b[2m\u001b[36m(train_resnet50 pid=63740)\u001b[0m Found 66 images belonging to 3 classes.\u001b[32m [repeated 3x across cluster]\u001b[0m\n"
          ]
        },
        {
          "name": "stderr",
          "output_type": "stream",
          "text": [
            "2023-05-09 01:07:43,388\tWARNING util.py:244 -- The `start_trial` operation took 10.781 s, which may be a performance bottleneck.\n",
            "\u001b[2m\u001b[36m(pid=65942)\u001b[0m 2023-05-09 01:07:46.571949: W tensorflow/compiler/tf2tensorrt/utils/py_utils.cc:38] TF-TRT Warning: Could not find TensorRT\n",
            "\u001b[2m\u001b[36m(pid=65942)\u001b[0m 2023-05-09 01:07:49.254730: W tensorflow/core/common_runtime/gpu/gpu_bfc_allocator.cc:47] Overriding orig_value setting because the TF_FORCE_GPU_ALLOW_GROWTH environment variable is set. Original config value was 0.\n"
          ]
        },
        {
          "name": "stdout",
          "output_type": "stream",
          "text": [
            "\u001b[2m\u001b[36m(train_resnet50 pid=65942)\u001b[0m Found 66 images belonging to 3 classes.\u001b[32m [repeated 3x across cluster]\u001b[0m\n"
          ]
        },
        {
          "name": "stderr",
          "output_type": "stream",
          "text": [
            "2023-05-09 01:17:42,757\tWARNING util.py:244 -- The `start_trial` operation took 11.064 s, which may be a performance bottleneck.\n",
            "\u001b[2m\u001b[36m(pid=69481)\u001b[0m 2023-05-09 01:17:46.095021: W tensorflow/compiler/tf2tensorrt/utils/py_utils.cc:38] TF-TRT Warning: Could not find TensorRT\n",
            "\u001b[2m\u001b[36m(pid=69481)\u001b[0m 2023-05-09 01:17:48.709573: W tensorflow/core/common_runtime/gpu/gpu_bfc_allocator.cc:47] Overriding orig_value setting because the TF_FORCE_GPU_ALLOW_GROWTH environment variable is set. Original config value was 0.\n"
          ]
        },
        {
          "name": "stdout",
          "output_type": "stream",
          "text": [
            "\u001b[2m\u001b[36m(train_resnet50 pid=69481)\u001b[0m Found 66 images belonging to 3 classes.\u001b[32m [repeated 3x across cluster]\u001b[0m\n"
          ]
        },
        {
          "name": "stderr",
          "output_type": "stream",
          "text": [
            "2023-05-09 01:27:46,791\tWARNING util.py:244 -- The `start_trial` operation took 11.014 s, which may be a performance bottleneck.\n",
            "\u001b[2m\u001b[36m(pid=73010)\u001b[0m 2023-05-09 01:27:50.032776: W tensorflow/compiler/tf2tensorrt/utils/py_utils.cc:38] TF-TRT Warning: Could not find TensorRT\n",
            "\u001b[2m\u001b[36m(pid=73010)\u001b[0m 2023-05-09 01:27:52.784459: W tensorflow/core/common_runtime/gpu/gpu_bfc_allocator.cc:47] Overriding orig_value setting because the TF_FORCE_GPU_ALLOW_GROWTH environment variable is set. Original config value was 0.\n"
          ]
        },
        {
          "name": "stdout",
          "output_type": "stream",
          "text": [
            "\u001b[2m\u001b[36m(train_resnet50 pid=73010)\u001b[0m Found 66 images belonging to 3 classes.\u001b[32m [repeated 3x across cluster]\u001b[0m\n"
          ]
        },
        {
          "name": "stderr",
          "output_type": "stream",
          "text": [
            "2023-05-09 01:37:45,802\tWARNING util.py:244 -- The `start_trial` operation took 10.954 s, which may be a performance bottleneck.\n",
            "\u001b[2m\u001b[36m(pid=76517)\u001b[0m 2023-05-09 01:37:48.971366: W tensorflow/compiler/tf2tensorrt/utils/py_utils.cc:38] TF-TRT Warning: Could not find TensorRT\n",
            "\u001b[2m\u001b[36m(pid=76517)\u001b[0m 2023-05-09 01:37:51.628019: W tensorflow/core/common_runtime/gpu/gpu_bfc_allocator.cc:47] Overriding orig_value setting because the TF_FORCE_GPU_ALLOW_GROWTH environment variable is set. Original config value was 0.\n"
          ]
        },
        {
          "name": "stdout",
          "output_type": "stream",
          "text": [
            "\u001b[2m\u001b[36m(train_resnet50 pid=76517)\u001b[0m Found 66 images belonging to 3 classes.\u001b[32m [repeated 3x across cluster]\u001b[0m\n"
          ]
        },
        {
          "name": "stderr",
          "output_type": "stream",
          "text": [
            "2023-05-09 01:45:29,843\tWARNING util.py:244 -- The `start_trial` operation took 10.942 s, which may be a performance bottleneck.\n",
            "\u001b[2m\u001b[36m(pid=79241)\u001b[0m 2023-05-09 01:45:32.995239: W tensorflow/compiler/tf2tensorrt/utils/py_utils.cc:38] TF-TRT Warning: Could not find TensorRT\n",
            "\u001b[2m\u001b[36m(pid=79241)\u001b[0m 2023-05-09 01:45:35.670217: W tensorflow/core/common_runtime/gpu/gpu_bfc_allocator.cc:47] Overriding orig_value setting because the TF_FORCE_GPU_ALLOW_GROWTH environment variable is set. Original config value was 0.\n"
          ]
        },
        {
          "name": "stdout",
          "output_type": "stream",
          "text": [
            "\u001b[2m\u001b[36m(train_resnet50 pid=79241)\u001b[0m Found 50 images belonging to 3 classes.\u001b[32m [repeated 2x across cluster]\u001b[0m\n"
          ]
        },
        {
          "name": "stderr",
          "output_type": "stream",
          "text": [
            "2023-05-09 01:55:26,957\tWARNING util.py:244 -- The `start_trial` operation took 10.993 s, which may be a performance bottleneck.\n",
            "\u001b[2m\u001b[36m(pid=82740)\u001b[0m 2023-05-09 01:55:30.185241: W tensorflow/compiler/tf2tensorrt/utils/py_utils.cc:38] TF-TRT Warning: Could not find TensorRT\n",
            "\u001b[2m\u001b[36m(pid=82740)\u001b[0m 2023-05-09 01:55:32.840799: W tensorflow/core/common_runtime/gpu/gpu_bfc_allocator.cc:47] Overriding orig_value setting because the TF_FORCE_GPU_ALLOW_GROWTH environment variable is set. Original config value was 0.\n"
          ]
        },
        {
          "name": "stdout",
          "output_type": "stream",
          "text": [
            "\u001b[2m\u001b[36m(train_resnet50 pid=82740)\u001b[0m Found 50 images belonging to 3 classes.\u001b[32m [repeated 3x across cluster]\u001b[0m\n"
          ]
        },
        {
          "name": "stderr",
          "output_type": "stream",
          "text": [
            "2023-05-09 02:05:14,076\tWARNING util.py:244 -- The `start_trial` operation took 11.055 s, which may be a performance bottleneck.\n",
            "\u001b[2m\u001b[36m(pid=86203)\u001b[0m 2023-05-09 02:05:17.210179: W tensorflow/compiler/tf2tensorrt/utils/py_utils.cc:38] TF-TRT Warning: Could not find TensorRT\n",
            "\u001b[2m\u001b[36m(pid=86203)\u001b[0m 2023-05-09 02:05:19.837227: W tensorflow/core/common_runtime/gpu/gpu_bfc_allocator.cc:47] Overriding orig_value setting because the TF_FORCE_GPU_ALLOW_GROWTH environment variable is set. Original config value was 0.\n"
          ]
        },
        {
          "name": "stdout",
          "output_type": "stream",
          "text": [
            "\u001b[2m\u001b[36m(train_resnet50 pid=86203)\u001b[0m Found 66 images belonging to 3 classes.\u001b[32m [repeated 4x across cluster]\u001b[0m\n"
          ]
        },
        {
          "name": "stderr",
          "output_type": "stream",
          "text": [
            "2023-05-09 02:13:49,138\tWARNING util.py:244 -- The `start_trial` operation took 11.075 s, which may be a performance bottleneck.\n",
            "\u001b[2m\u001b[36m(pid=89238)\u001b[0m 2023-05-09 02:13:52.389476: W tensorflow/compiler/tf2tensorrt/utils/py_utils.cc:38] TF-TRT Warning: Could not find TensorRT\n",
            "\u001b[2m\u001b[36m(pid=89238)\u001b[0m 2023-05-09 02:13:55.110857: W tensorflow/core/common_runtime/gpu/gpu_bfc_allocator.cc:47] Overriding orig_value setting because the TF_FORCE_GPU_ALLOW_GROWTH environment variable is set. Original config value was 0.\n"
          ]
        },
        {
          "name": "stdout",
          "output_type": "stream",
          "text": [
            "\u001b[2m\u001b[36m(train_resnet50 pid=89238)\u001b[0m Found 66 images belonging to 3 classes.\u001b[32m [repeated 3x across cluster]\u001b[0m\n"
          ]
        },
        {
          "name": "stderr",
          "output_type": "stream",
          "text": [
            "2023-05-09 02:22:05,735\tINFO tune.py:945 -- Total run time: 5550.08 seconds (5547.30 seconds for the tuning loop).\n"
          ]
        }
      ],
      "source": [
        "hyperband = HyperBandScheduler(max_t=200)\n",
        "\n",
        "start_time = time.perf_counter()\n",
        "resnet50_tuning_analysis = tune.run(\n",
        "        train_resnet50,\n",
        "        name=\"resnet50_exp\",\n",
        "        metric=\"mean_accuracy\",\n",
        "        mode=\"max\",\n",
        "        stop={\n",
        "            \"mean_accuracy\": 0.95,\n",
        "        },\n",
        "        resources_per_trial={\n",
        "            \"gpu\": 1\n",
        "        },\n",
        "        config={\n",
        "            'learning_rate': tune.uniform(1e-4, 1e-2),\n",
        "            'momentum': tune.uniform(0, 1),\n",
        "            'optimizer_name': tune.choice(['adam', 'sgd', 'adagrad'])\n",
        "        },\n",
        "        scheduler=hyperband,\n",
        "        num_samples=10\n",
        "    )"
      ]
    },
    {
      "cell_type": "code",
      "execution_count": null,
      "metadata": {
        "colab": {
          "base_uri": "https://localhost:8080/"
        },
        "id": "eNkcYo1hoZ8L",
        "outputId": "35d90271-d293-4e95-f2ac-2fa8e35960c1"
      },
      "outputs": [
        {
          "data": {
            "text/plain": [
              "{'resnet50': {'time': '5595.942 seconds',\n",
              "  'best_model_params': {'learning_rate': 0.0014873710286773295,\n",
              "   'momentum': 0.6600652342095472,\n",
              "   'optimizer_name': 'adam'},\n",
              "  'accuracy': 0.7562189102172852}}"
            ]
          },
          "execution_count": 38,
          "metadata": {},
          "output_type": "execute_result"
        }
      ],
      "source": [
        "best_trial = resnet50_tuning_analysis.get_best_trial(\"mean_accuracy\", \"max\", \"last\")\n",
        "best_accuracy = best_trial.last_result[\"mean_accuracy\"]\n",
        "\n",
        "resnet50_results = {}\n",
        "resnet50_results['resnet50'] = {\n",
        "    \"time\" : f'{round(time.perf_counter() - start_time, 4)} seconds',\n",
        "    \"best_model_params\" : resnet50_tuning_analysis.best_config,\n",
        "    \"accuracy\": best_accuracy\n",
        "}\n",
        "\n",
        "resnet50_results"
      ]
    },
    {
      "attachments": {},
      "cell_type": "markdown",
      "metadata": {
        "id": "MVZ_9LdTwbX9"
      },
      "source": [
        "## Tensorflow Lite Conversion"
      ]
    },
    {
      "attachments": {},
      "cell_type": "markdown",
      "metadata": {
        "id": "5AjDqJnn2dtE"
      },
      "source": [
        "### Save the Optimized Model\n",
        "\n",
        "Here, we select VGG16 as the better model and save the weights for later on."
      ]
    },
    {
      "cell_type": "code",
      "execution_count": 6,
      "metadata": {
        "colab": {
          "base_uri": "https://localhost:8080/"
        },
        "id": "pWeROOHJwatL",
        "outputId": "04c223f3-632e-486c-c801-95658d2a6e35"
      },
      "outputs": [
        {
          "name": "stdout",
          "output_type": "stream",
          "text": [
            "Downloading data from https://storage.googleapis.com/tensorflow/keras-applications/vgg16/vgg16_weights_tf_dim_ordering_tf_kernels_notop.h5\n",
            "58889256/58889256 [==============================] - 1s 0us/step\n",
            "Found 201 images belonging to 3 classes.\n",
            "Found 50 images belonging to 3 classes.\n",
            "Found 66 images belonging to 3 classes.\n",
            "Epoch 1/50\n",
            "7/7 [==============================] - 69s 8s/step - loss: 1.1889 - accuracy: 0.3532 - val_loss: 1.0526 - val_accuracy: 0.3800\n",
            "Epoch 2/50\n",
            "7/7 [==============================] - 15s 2s/step - loss: 1.0003 - accuracy: 0.4975 - val_loss: 0.8773 - val_accuracy: 0.6600\n",
            "Epoch 3/50\n",
            "7/7 [==============================] - 15s 2s/step - loss: 0.7959 - accuracy: 0.6269 - val_loss: 0.7711 - val_accuracy: 0.7400\n",
            "Epoch 4/50\n",
            "7/7 [==============================] - 13s 2s/step - loss: 0.6585 - accuracy: 0.7015 - val_loss: 0.7025 - val_accuracy: 0.7000\n",
            "Epoch 5/50\n",
            "7/7 [==============================] - 14s 2s/step - loss: 0.5854 - accuracy: 0.7264 - val_loss: 0.6557 - val_accuracy: 0.8200\n",
            "Epoch 6/50\n",
            "7/7 [==============================] - 14s 2s/step - loss: 0.5293 - accuracy: 0.8010 - val_loss: 0.5883 - val_accuracy: 0.7800\n",
            "Epoch 7/50\n",
            "7/7 [==============================] - 14s 2s/step - loss: 0.4535 - accuracy: 0.8109 - val_loss: 0.5935 - val_accuracy: 0.8000\n",
            "Epoch 8/50\n",
            "7/7 [==============================] - 14s 2s/step - loss: 0.5226 - accuracy: 0.7960 - val_loss: 0.5200 - val_accuracy: 0.8200\n",
            "Epoch 9/50\n",
            "7/7 [==============================] - 13s 2s/step - loss: 0.3218 - accuracy: 0.8756 - val_loss: 0.4457 - val_accuracy: 0.8600\n",
            "Epoch 10/50\n",
            "7/7 [==============================] - 13s 2s/step - loss: 0.3156 - accuracy: 0.8955 - val_loss: 0.5492 - val_accuracy: 0.7600\n",
            "Epoch 11/50\n",
            "7/7 [==============================] - 14s 2s/step - loss: 0.3535 - accuracy: 0.8756 - val_loss: 0.4476 - val_accuracy: 0.8400\n",
            "Epoch 12/50\n",
            "7/7 [==============================] - 13s 2s/step - loss: 0.3430 - accuracy: 0.8557 - val_loss: 0.4447 - val_accuracy: 0.8800\n",
            "Epoch 13/50\n",
            "7/7 [==============================] - 14s 2s/step - loss: 0.2709 - accuracy: 0.9005 - val_loss: 0.3699 - val_accuracy: 0.8800\n",
            "Epoch 14/50\n",
            "7/7 [==============================] - 14s 2s/step - loss: 0.2665 - accuracy: 0.9005 - val_loss: 0.4022 - val_accuracy: 0.8800\n",
            "Epoch 15/50\n",
            "7/7 [==============================] - 13s 2s/step - loss: 0.2758 - accuracy: 0.9154 - val_loss: 0.4173 - val_accuracy: 0.8800\n",
            "Epoch 16/50\n",
            "7/7 [==============================] - 14s 2s/step - loss: 0.2710 - accuracy: 0.9005 - val_loss: 0.4059 - val_accuracy: 0.8800\n",
            "Epoch 17/50\n",
            "7/7 [==============================] - 14s 2s/step - loss: 0.2754 - accuracy: 0.8856 - val_loss: 0.4373 - val_accuracy: 0.9200\n",
            "Epoch 18/50\n",
            "7/7 [==============================] - 15s 2s/step - loss: 0.2103 - accuracy: 0.9303 - val_loss: 0.3522 - val_accuracy: 0.9000\n",
            "Epoch 19/50\n",
            "7/7 [==============================] - 13s 2s/step - loss: 0.2090 - accuracy: 0.9353 - val_loss: 0.5735 - val_accuracy: 0.8400\n",
            "Epoch 20/50\n",
            "7/7 [==============================] - 13s 2s/step - loss: 0.2233 - accuracy: 0.9055 - val_loss: 0.3471 - val_accuracy: 0.9200\n",
            "Epoch 21/50\n",
            "7/7 [==============================] - 14s 2s/step - loss: 0.1823 - accuracy: 0.9403 - val_loss: 0.4329 - val_accuracy: 0.9000\n",
            "Epoch 22/50\n",
            "7/7 [==============================] - 14s 2s/step - loss: 0.1966 - accuracy: 0.9254 - val_loss: 0.2934 - val_accuracy: 0.9200\n",
            "Epoch 23/50\n",
            "7/7 [==============================] - 14s 2s/step - loss: 0.1864 - accuracy: 0.9204 - val_loss: 0.4458 - val_accuracy: 0.8800\n",
            "Epoch 24/50\n",
            "7/7 [==============================] - 14s 2s/step - loss: 0.1503 - accuracy: 0.9552 - val_loss: 0.2953 - val_accuracy: 0.9200\n",
            "Epoch 25/50\n",
            "7/7 [==============================] - 14s 2s/step - loss: 0.1851 - accuracy: 0.9303 - val_loss: 0.3936 - val_accuracy: 0.9000\n",
            "Epoch 26/50\n",
            "7/7 [==============================] - 14s 2s/step - loss: 0.1792 - accuracy: 0.9353 - val_loss: 0.3380 - val_accuracy: 0.9400\n",
            "Epoch 27/50\n",
            "7/7 [==============================] - 19s 3s/step - loss: 0.1946 - accuracy: 0.9353 - val_loss: 0.3688 - val_accuracy: 0.9000\n"
          ]
        },
        {
          "data": {
            "text/plain": [
              "<keras.callbacks.History at 0x7f3fc1522aa0>"
            ]
          },
          "execution_count": 6,
          "metadata": {},
          "output_type": "execute_result"
        }
      ],
      "source": [
        "optimizer = Adam(learning_rate=0.0028980417092137317)\n",
        "\n",
        "# Create augmented model \n",
        "vgg16_base = tf.keras.applications.vgg16.VGG16(\n",
        "      weights='imagenet', \n",
        "      include_top=False,\n",
        "      input_shape=input_shape\n",
        "  )\n",
        "vgg16_base.trainable = False\n",
        "vgg16_aug = tf.keras.Sequential()\n",
        "vgg16_aug.add(vgg16_base)\n",
        "vgg16_aug.add(tf.keras.layers.GlobalAveragePooling2D())\n",
        "vgg16_aug.add(tf.keras.layers.Flatten())\n",
        "vgg16_aug.add(tf.keras.layers.Dense(256, activation='relu'))\n",
        "vgg16_aug.add(tf.keras.layers.Dropout(0.5))\n",
        "vgg16_aug.add(tf.keras.layers.Dense(256, activation='relu'))\n",
        "vgg16_aug.add(tf.keras.layers.Dropout(0.5))\n",
        "vgg16_aug.add(tf.keras.layers.Dense(3, activation='softmax'))\n",
        "vgg16_aug.compile(loss='categorical_crossentropy', \n",
        "              optimizer=optimizer,\n",
        "              metrics=['accuracy'])\n",
        "\n",
        "early = EarlyStopping(monitor=\"val_loss\", mode=\"min\", restore_best_weights=True, patience=5)\n",
        "callbacks_list = [early]\n",
        "\n",
        "# get data \n",
        "train_gen = ImageDataGenerator(rescale=1/255,validation_split=0.2)\n",
        "test_gen = ImageDataGenerator(rescale=1/255)\n",
        "\n",
        "train_data = train_gen.flow_from_directory(directory=path + '/train', \n",
        "                                          target_size=target_size, subset='training')\n",
        "val_data = train_gen.flow_from_directory(directory=path + '/train', \n",
        "                                          target_size=target_size,subset='validation')\n",
        "test_data = test_gen.flow_from_directory(directory=path + '/test', \n",
        "                                        target_size=target_size)\n",
        "\n",
        "# Compile Train mdoel\n",
        "vgg16_aug.fit(train_data,\n",
        "          validation_data = val_data, \n",
        "          epochs=50, verbose=True,  \n",
        "          callbacks=callbacks_list)\n"
      ]
    },
    {
      "cell_type": "code",
      "execution_count": 7,
      "metadata": {
        "colab": {
          "base_uri": "https://localhost:8080/"
        },
        "id": "GMwFmSslxc9K",
        "outputId": "8c89e5a2-158c-4b3e-bf30-f16d861ec9ad"
      },
      "outputs": [
        {
          "name": "stderr",
          "output_type": "stream",
          "text": [
            "WARNING:absl:Found untraced functions such as _jit_compiled_convolution_op, _jit_compiled_convolution_op, _jit_compiled_convolution_op, _jit_compiled_convolution_op, _jit_compiled_convolution_op while saving (showing 5 of 13). These functions will not be directly callable after loading.\n"
          ]
        }
      ],
      "source": [
        "vgg16_aug.save('vgg16_aug_optimized')"
      ]
    },
    {
      "cell_type": "code",
      "execution_count": 8,
      "metadata": {
        "colab": {
          "base_uri": "https://localhost:8080/"
        },
        "id": "URArdu4a0BK5",
        "outputId": "40596594-09cc-4ba9-98f4-26f4624d3773"
      },
      "outputs": [
        {
          "name": "stdout",
          "output_type": "stream",
          "text": [
            "  adding: content/vgg16_aug_optimized/ (stored 0%)\n",
            "  adding: content/vgg16_aug_optimized/keras_metadata.pb (deflated 96%)\n",
            "  adding: content/vgg16_aug_optimized/assets/ (stored 0%)\n",
            "  adding: content/vgg16_aug_optimized/fingerprint.pb (stored 0%)\n",
            "  adding: content/vgg16_aug_optimized/variables/ (stored 0%)\n",
            "  adding: content/vgg16_aug_optimized/variables/variables.index (deflated 66%)\n",
            "  adding: content/vgg16_aug_optimized/variables/variables.data-00000-of-00001 (deflated 8%)\n",
            "  adding: content/vgg16_aug_optimized/saved_model.pb (deflated 90%)\n"
          ]
        }
      ],
      "source": [
        "!zip -r 'vgg16_aug_optimized' '/content/vgg16_aug_optimized'"
      ]
    },
    {
      "attachments": {},
      "cell_type": "markdown",
      "metadata": {
        "id": "e_Ps9pge_DZB"
      },
      "source": [
        "## Performance Evaluation"
      ]
    },
    {
      "cell_type": "code",
      "execution_count": 12,
      "metadata": {
        "id": "UzfhHRGk_CgP"
      },
      "outputs": [],
      "source": [
        "from sklearn.metrics import accuracy_score, precision_score, \\\n",
        "                            roc_auc_score, roc_curve, f1_score, auc, recall_score\n",
        "from sklearn.preprocessing import label_binarize\n",
        "\n",
        "test_data.reset()\n",
        "true_labels = []\n",
        "num_steps = len(test_data)\n",
        "for _ in range(num_steps):\n",
        "  _, labels = test_data.next()\n",
        "  true_labels.extend(labels.argmax(axis=1))\n",
        "test_data.reset()"
      ]
    },
    {
      "cell_type": "code",
      "execution_count": 13,
      "metadata": {
        "colab": {
          "base_uri": "https://localhost:8080/"
        },
        "id": "mbmmdyvg_6Ad",
        "outputId": "063f8448-d07e-4361-fc08-8a374d360fca"
      },
      "outputs": [
        {
          "name": "stdout",
          "output_type": "stream",
          "text": [
            "3/3 [==============================] - 2s 408ms/step\n"
          ]
        }
      ],
      "source": [
        "predictions = vgg16_aug.predict(test_data)\n",
        "true_labels = label_binarize(true_labels, classes=np.arange(3))"
      ]
    },
    {
      "cell_type": "code",
      "execution_count": 14,
      "metadata": {
        "id": "YhiXEeIpBMbP"
      },
      "outputs": [],
      "source": [
        "predicted_labels = np.argmax(predictions, axis=1)\n",
        "precision = precision_score(np.argmax(true_labels, axis=1), predicted_labels, average='weighted')\n",
        "recall = recall_score(np.argmax(true_labels, axis=1), predicted_labels, average='weighted')"
      ]
    },
    {
      "cell_type": "code",
      "execution_count": 15,
      "metadata": {
        "id": "IfvG8u6rApwi"
      },
      "outputs": [],
      "source": [
        "# Calculate AUC and ROC curve\n",
        "fpr = dict()\n",
        "tpr = dict()\n",
        "roc_auc = dict()\n",
        "for i in range(3):\n",
        "    fpr[i], tpr[i], _ = roc_curve(true_labels[:, i], predictions[:, i])\n",
        "    roc_auc[i] = auc(fpr[i], tpr[i])\n",
        "\n",
        "# Compute micro-average AUC\n",
        "fpr_micro, tpr_micro, _ = roc_curve(true_labels.ravel(), predictions.ravel())\n",
        "roc_auc_micro = auc(fpr_micro, tpr_micro)\n",
        "\n",
        "# Calculate F1 score\n",
        "f1 = f1_score(np.argmax(true_labels, axis=1), predicted_labels, average='weighted')"
      ]
    },
    {
      "cell_type": "code",
      "execution_count": 18,
      "metadata": {
        "colab": {
          "base_uri": "https://localhost:8080/"
        },
        "id": "67j55ApEEpxu",
        "outputId": "e59d9166-02ea-401a-f630-c03fc6381a94"
      },
      "outputs": [
        {
          "name": "stdout",
          "output_type": "stream",
          "text": [
            "Precision: 0.9214365881032547\n",
            "Recall: 0.8939393939393939\n",
            "Micro-average AUC: 0.983356290174472\n",
            "F1 score: 0.8905886720200067\n"
          ]
        }
      ],
      "source": [
        "print(f\"Precision: {precision}\")\n",
        "print(f\"Recall: {recall}\")\n",
        "print(f\"Micro-average AUC: {roc_auc_micro}\")\n",
        "print(f\"F1 score: {f1}\")"
      ]
    },
    {
      "cell_type": "code",
      "execution_count": 19,
      "metadata": {
        "colab": {
          "base_uri": "https://localhost:8080/",
          "height": 472
        },
        "id": "hqm_JtW5_5SH",
        "outputId": "e7c7dce1-f09c-40db-e76f-b693c20ff3ca"
      },
      "outputs": [
        {
          "data": {
            "image/png": "[encoded data removed]",
            "text/plain": [
              "<Figure size 640x480 with 1 Axes>"
            ]
          },
          "metadata": {},
          "output_type": "display_data"
        }
      ],
      "source": [
        "# Plot ROC curves\n",
        "plt.figure()\n",
        "for i in range(3):\n",
        "    plt.plot(fpr[i], tpr[i], label=f\"Class {i} (AUC = {roc_auc[i]:.2f})\")\n",
        "plt.plot(fpr_micro, tpr_micro, label='Micro-Average AUC', linestyle='--')\n",
        "plt.plot([0, 1], [0, 1], 'k--')\n",
        "plt.xlabel('False Positive Rate')\n",
        "plt.ylabel('True Positive Rate')\n",
        "plt.title('Receiver Operating Characteristic (ROC) Curve')\n",
        "plt.legend(loc='lower right')\n",
        "plt.show()"
      ]
    },
    {
      "attachments": {},
      "cell_type": "markdown",
      "metadata": {
        "id": "V5lWh_9y2nvM"
      },
      "source": [
        "## Conversion\n",
        "Here we convert the saved model to its \"lite\" version and compare results."
      ]
    },
    {
      "cell_type": "code",
      "execution_count": 20,
      "metadata": {
        "colab": {
          "base_uri": "https://localhost:8080/"
        },
        "id": "3s8nT3jU4PCr",
        "outputId": "b493fc9a-828a-4e3f-942c-851ef39c9a3e"
      },
      "outputs": [
        {
          "name": "stdout",
          "output_type": "stream",
          "text": [
            "Looking in indexes: https://pypi.org/simple, https://us-python.pkg.dev/colab-wheels/public/simple/\n",
            "Requirement already satisfied: psutil in /usr/local/lib/python3.10/dist-packages (5.9.5)\n"
          ]
        }
      ],
      "source": [
        "!pip install psutil\n",
        "import psutil"
      ]
    },
    {
      "cell_type": "code",
      "execution_count": 21,
      "metadata": {
        "id": "Bl460-nKGRcw"
      },
      "outputs": [],
      "source": [
        "def get_directory_size_mb(directory):\n",
        "    total_size = 0\n",
        "    MB = (1024 * 1024)\n",
        "\n",
        "    if os.path.isfile(directory):\n",
        "      return os.path.getsize(directory) / KB\n",
        "\n",
        "    for path, dirs, files in os.walk(directory):\n",
        "        for file_ in files:\n",
        "            file_path = os.path.join(path, file_)\n",
        "            total_size += os.path.getsize(file_path)\n",
        "\n",
        "    return total_size / MB"
      ]
    },
    {
      "cell_type": "code",
      "execution_count": 22,
      "metadata": {
        "colab": {
          "base_uri": "https://localhost:8080/"
        },
        "id": "NLfJLeHb2zVZ",
        "outputId": "c54fed11-bfd8-40c5-dd27-e9e2509a1736"
      },
      "outputs": [
        {
          "name": "stderr",
          "output_type": "stream",
          "text": [
            "WARNING:absl:Found untraced functions such as _jit_compiled_convolution_op, _jit_compiled_convolution_op, _jit_compiled_convolution_op, _jit_compiled_convolution_op, _jit_compiled_convolution_op while saving (showing 5 of 13). These functions will not be directly callable after loading.\n"
          ]
        }
      ],
      "source": [
        "# Convert the model to TensorFlow Lite format\n",
        "converter = tf.lite.TFLiteConverter.from_keras_model(vgg16_aug)\n",
        "tflite_model = converter.convert()\n",
        "\n",
        "# Save the TensorFlow Lite model to a file\n",
        "with open('vgg16.tflite', 'wb') as f:\n",
        "    f.write(tflite_model)\n",
        "\n",
        "# Load the TensorFlow Lite model\n",
        "interpreter = tf.lite.Interpreter(model_path='vgg16.tflite')\n",
        "interpreter.allocate_tensors()"
      ]
    },
    {
      "attachments": {},
      "cell_type": "markdown",
      "metadata": {
        "id": "NXO8WNEeWcR3"
      },
      "source": [
        "#### Batched Image Performance \n",
        "\n",
        "Comparing performace for a batch fo 32 images, predicted iteratively through the batch. "
      ]
    },
    {
      "cell_type": "code",
      "execution_count": 23,
      "metadata": {
        "id": "DzsxbOJH2H9J"
      },
      "outputs": [],
      "source": [
        "# Fetch a single image from the test data\n",
        "index = 0\n",
        "images, labels = test_data[index]  \n",
        "y_true  = np.argmax(labels, axis=1)"
      ]
    },
    {
      "cell_type": "code",
      "execution_count": 29,
      "metadata": {
        "colab": {
          "base_uri": "https://localhost:8080/"
        },
        "id": "PTglnn-oAYqB",
        "outputId": "8693bd94-afa3-4aad-fc43-4dbdcec947cb"
      },
      "outputs": [
        {
          "name": "stdout",
          "output_type": "stream",
          "text": [
            "Time: 2.536 s\n",
            "Memory Used: 0.44140625\n",
            "Accuracy: 0.95\n",
            "Model Weight Size: 61.8 MB\n"
          ]
        }
      ],
      "source": [
        "# Profie the original model for a single image \n",
        "aug_model_output = []\n",
        "start_time, start_memory = time.time(), psutil.Process().memory_info().rss\n",
        "\n",
        "for img in images:\n",
        "  img = tf.expand_dims(img, axis=0)\n",
        "  aug_model_output.append(vgg16_aug.predict(img, verbose=False)[0])\n",
        "\n",
        "end_time, end_memory = time.time(), psutil.Process().memory_info().rss\n",
        "\n",
        "# Calculate Accuracy \n",
        "y_pred_aug = np.argmax(aug_model_output, axis=1)\n",
        "correct_predictions = np.sum(y_true == y_pred_aug)\n",
        "total_samples = y_true.shape[0]\n",
        "accuracy = correct_predictions / total_samples\n",
        "\n",
        "print(f'Time: {round(end_time - start_time, 4)} s')\n",
        "print(f'Memory Used: {round((end_memory - start_memory) / (1024 * 1024), 10)}')\n",
        "print(f\"Accuracy: {accuracy}\")\n",
        "print(f\"Model Weight Size: 61.8 MB\")"
      ]
    },
    {
      "cell_type": "code",
      "execution_count": 30,
      "metadata": {
        "colab": {
          "base_uri": "https://localhost:8080/"
        },
        "id": "CFCQ5KeD0f3v",
        "outputId": "01b7ba88-3a3a-4d2f-b1fc-037fb49b1941"
      },
      "outputs": [
        {
          "name": "stdout",
          "output_type": "stream",
          "text": [
            "Time: 32.7876 s\n",
            "Memory Used: 0.0\n",
            "Accuracy: 0.95\n",
            "Model Weights Size: 0.0\n"
          ]
        }
      ],
      "source": [
        "# Test the converted TensorFlow Lite model\n",
        "tflite_model_output = []\n",
        "input_details = interpreter.get_input_details()\n",
        "output_details = interpreter.get_output_details()\n",
        "start_time, start_memory = time.time(), psutil.Process().memory_info().rss\n",
        "\n",
        "for img in images:\n",
        "  img = tf.expand_dims(img, axis=0)\n",
        "  interpreter.set_tensor(input_details[0]['index'], img)\n",
        "  interpreter.invoke()\n",
        "  result = interpreter.get_tensor(output_details[0]['index'])\n",
        "  tflite_model_output.append(result[0])\n",
        "\n",
        "end_time, end_memory = time.time(), psutil.Process().memory_info().rss\n",
        "\n",
        "# Calculate Accuracy \n",
        "y_pred_tflite = np.argmax(tflite_model_output, axis=1)\n",
        "correct_predictions = np.sum(y_true == y_pred_tflite)\n",
        "total_samples = y_true.shape[0]\n",
        "accuracy = correct_predictions / total_samples\n",
        "\n",
        "print(f'Time: {round(end_time - start_time, 4)} s')\n",
        "print(f'Memory Used: {round((end_memory - start_memory) / (1024 * 1024), 10)}')\n",
        "print(f\"Accuracy: {accuracy}\")\n",
        "print(f\"Model Weights Size: {get_directory_size_mb('/content/resnet50.tflite')}\")"
      ]
    },
    {
      "attachments": {},
      "cell_type": "markdown",
      "metadata": {
        "id": "ITWr3Bk6WOKr"
      },
      "source": [
        "#### Single Image Performance"
      ]
    },
    {
      "cell_type": "code",
      "execution_count": 26,
      "metadata": {
        "id": "BSN4oCP6F0Vd"
      },
      "outputs": [],
      "source": [
        "# Fetch a single image from the test data\n",
        "index = 1\n",
        "single_image, labels = test_data[index]  "
      ]
    },
    {
      "cell_type": "code",
      "execution_count": 31,
      "metadata": {
        "colab": {
          "base_uri": "https://localhost:8080/"
        },
        "id": "9vjTBh7Fz-Yd",
        "outputId": "57edbb40-ad45-4fbd-8e76-17a4eca85314"
      },
      "outputs": [
        {
          "name": "stdout",
          "output_type": "stream",
          "text": [
            "Time: 0.1114 s\n",
            "Memory Used: 0.25109375 MB\n"
          ]
        }
      ],
      "source": [
        "# Profie the original model for a single image \n",
        "aug_model_output = []\n",
        "start_time, start_memory = time.time(), psutil.Process().memory_info().rss\n",
        "\n",
        "img = tf.expand_dims(single_image[0], axis=0)\n",
        "aug_model_output.append(vgg16_aug.predict(img, verbose=False)[0])\n",
        "\n",
        "end_time, end_memory = time.time(), psutil.Process().memory_info().rss\n",
        "\n",
        "print(f'Time: {round(end_time - start_time, 4)} s')\n",
        "print(f'Memory Used: {round((end_memory - start_memory) / (1024 * 1024), 10)} MB')"
      ]
    },
    {
      "cell_type": "code",
      "execution_count": 28,
      "metadata": {
        "colab": {
          "base_uri": "https://localhost:8080/"
        },
        "id": "VBKLrDKkz9iH",
        "outputId": "8bf98540-90f1-493f-9634-17bfa8c3221e"
      },
      "outputs": [
        {
          "name": "stdout",
          "output_type": "stream",
          "text": [
            "Time: 1.2891 s\n",
            "Memory Used: 0.0 MB\n"
          ]
        }
      ],
      "source": [
        "# Test the converted TensorFlow Lite model\n",
        "tflite_model_output = []\n",
        "input_details = interpreter.get_input_details()\n",
        "output_details = interpreter.get_output_details()\n",
        "start_time, start_memory = time.time(), psutil.Process().memory_info().rss\n",
        "\n",
        "img = tf.expand_dims(single_image[0], axis=0)\n",
        "interpreter.set_tensor(input_details[0]['index'], img)\n",
        "interpreter.invoke()\n",
        "result = interpreter.get_tensor(output_details[0]['index'])\n",
        "tflite_model_output.append(result[0])\n",
        "\n",
        "end_time, end_memory = time.time(), psutil.Process().memory_info().rss\n",
        "\n",
        "print(f'Time: {round(end_time - start_time, 4)} s')\n",
        "print(f'Memory Used: {round((end_memory - start_memory) / (1024 * 1024), 10)} MB')"
      ]
    },
    {
      "cell_type": "code",
      "execution_count": 28,
      "metadata": {
        "id": "_IU_PO1P1UDe"
      },
      "outputs": [],
      "source": []
    }
  ],
  "metadata": {
    "accelerator": "GPU",
    "colab": {
      "collapsed_sections": [
        "MQz3vJzKUTAU",
        "9iziBl3f2z7G"
      ],
      "gpuType": "T4",
      "machine_shape": "hm",
      "provenance": []
    },
    "gpuClass": "standard",
    "kernelspec": {
      "display_name": "Python 3",
      "name": "python3"
    },
    "language_info": {
      "name": "python"
    }
  },
  "nbformat": 4,
  "nbformat_minor": 0
}
